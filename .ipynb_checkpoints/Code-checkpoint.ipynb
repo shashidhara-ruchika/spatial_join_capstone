{
 "cells": [
  {
   "cell_type": "markdown",
   "id": "continent-sunset",
   "metadata": {},
   "source": [
    "# Visualization of spatial data using KeplerGL"
   ]
  },
  {
   "cell_type": "code",
   "execution_count": null,
   "id": "median-freeze",
   "metadata": {},
   "outputs": [],
   "source": [
    "from keplergl import KeplerGl \n",
    "from geopandas import GeoDataFrame\n",
    "import geopandas as gpd\n",
    "import pandas as pd\n",
    "import osmnx as ox\n",
    "\n",
    "def visualize_file(shape, to_crs_value = None):\n",
    "    \n",
    "    map = KeplerGl(height=500)\n",
    "    gpdshape1 = gpd.read_file(shape)\n",
    "    \n",
    "    if(to_crs_value != None):\n",
    "        gpdshape1.crs = \"EPSG:4326\"\n",
    "        \n",
    "    map.add_data(data=gpdshape1, name=shape)\n",
    "    shape = shape.split('/')[-1]\n",
    "    file_name = shape.split('.')[-2]\n",
    "    map.save_to_html(file_name='Visualizations/' + file_name + '.html', read_only=True)    \n",
    "    \n",
    "def  visualize_join(shape_1, shape_2):\n",
    "    \n",
    "    map_1 = KeplerGl(height=500)\n",
    "    gpdshape1 = gpd.read_file(shape_1)\n",
    "    shape_1 = shape_1.split('/')[-1]\n",
    "    file_1 = shape_1.split('.')[-2]\n",
    "    gpdshape1.crs = \"EPSG:4326\"\n",
    "    \n",
    "    map_2 = KeplerGl(height=500)\n",
    "    gpdshape2 = gpd.read_file(shape_2)\n",
    "    shape_2 = shape_2.split('/')[-1]\n",
    "    file_2 = shape_2.split('.')[-2]\n",
    "    \n",
    "    map_3 = KeplerGl(height=500)\n",
    "    join_result = gpd.sjoin(gpdshape1, gpdshape2, how=\"inner\", op='contains')\n",
    "    map_3.add_data(data=join_result, name=\"join_result\")\n",
    "    map_3.save_to_html(file_name='Visualizations/'+file_1+'_join_'+file_2+'.html', read_only=True)"
   ]
  },
  {
   "cell_type": "code",
   "execution_count": null,
   "id": "indirect-atlantic",
   "metadata": {},
   "outputs": [],
   "source": [
    "visualize_file(\"Datasets/shape_files/gadm36_IND_0.shp\", 4362)"
   ]
  },
  {
   "cell_type": "code",
   "execution_count": null,
   "id": "realistic-above",
   "metadata": {},
   "outputs": [],
   "source": [
    "from IPython.display import Image\n",
    "from IPython.core.display import HTML \n",
    "Image(url= \"https://geopandas.org/_images/overlay_operations.png\")"
   ]
  },
  {
   "cell_type": "markdown",
   "id": "conscious-bottle",
   "metadata": {},
   "source": [
    "# Spatial Join on CPU and GPU without indexing and splitting"
   ]
  },
  {
   "cell_type": "code",
   "execution_count": null,
   "id": "constitutional-jaguar",
   "metadata": {},
   "outputs": [],
   "source": [
    "import time\n",
    "import geopandas as gpd\n",
    "from numba.extending import overload\n",
    "import matplotlib.pyplot as plt\n",
    "\n",
    "def sjoin_without_indexing(data_1, data_2, device = 'CPU', plot = True):\n",
    "    start_time = time.time()\n",
    "    join_result = gpd.GeoDataFrame(gpd.sjoin(data_1, data_2, how=\"inner\", op='intersects'))\n",
    "    end_time = time.time()\n",
    "    print(\"S-join without splitting on {0} = {1}\".format(device, end_time - start_time))\n",
    "    \n",
    "    if plot:\n",
    "        join_result.plot(ec = \"#0b1878\", figsize=(15,15))\n",
    "    \n",
    "    return join_result\n",
    "\n",
    "@overload(sjoin_without_indexing)\n",
    "def gpu_sjoin_without_indexing(data1, data2, plot = True):\n",
    "    return sjoin_without_indexing(data1, data2, device = 'GPU', plot = plot)"
   ]
  },
  {
   "cell_type": "code",
   "execution_count": null,
   "id": "ideal-entrance",
   "metadata": {
    "scrolled": false
   },
   "outputs": [],
   "source": [
    "from geopandas import GeoDataFrame\n",
    "import geopandas as gpd\n",
    "import pandas as pd\n",
    "\n",
    "gdb_data = gpd.read_file(\"Datasets/Geodatabase_format/gROADS-v1-oceania-east.gdb\")\n",
    "data_3 = gpd.read_file(\"Datasets/shape_files/gadm36_IND_3.shp\").set_crs(gdb_data.crs)\n",
    "\n",
    "# sjoin_without_indexing(gdb_data, data_3, plot = False)\n",
    "\n",
    "result = gpu_sjoin_without_indexing(gpd.GeoDataFrame(gdb_data[\"geometry\"]), gpd.GeoDataFrame(data_3[\"geometry\"]), plot = True)"
   ]
  },
  {
   "cell_type": "code",
   "execution_count": null,
   "id": "sunset-antibody",
   "metadata": {
    "scrolled": true
   },
   "outputs": [],
   "source": [
    "gdb_data.plot()\n",
    "data_3.plot()"
   ]
  },
  {
   "cell_type": "code",
   "execution_count": null,
   "id": "large-cooler",
   "metadata": {},
   "outputs": [],
   "source": [
    "result[\"geometry\"]"
   ]
  },
  {
   "cell_type": "code",
   "execution_count": null,
   "id": "finnish-argentina",
   "metadata": {},
   "outputs": [],
   "source": [
    "data_3[\"geometry\"]"
   ]
  },
  {
   "cell_type": "code",
   "execution_count": null,
   "id": "unexpected-idaho",
   "metadata": {},
   "outputs": [],
   "source": [
    "gdb_data[\"geometry\"]"
   ]
  },
  {
   "cell_type": "code",
   "execution_count": null,
   "id": "three-action",
   "metadata": {
    "scrolled": true
   },
   "outputs": [],
   "source": [
    "from geopandas import GeoDataFrame\n",
    "import geopandas as gpd\n",
    "import pandas as pd\n",
    "\n",
    "gdb_data = gpd.read_file(\"Datasets/Geodatabase_format/gROADS-v1-oceania-east.gdb\")\n",
    "data_3 = gpd.read_file(\"Datasets/shape_files/gadm36_IND_3.shp\").set_crs(gdb_data.crs)\n",
    "print(gdb_data)\n",
    "print(\"\\n\\n\\n\\n\\n\", data_3)"
   ]
  },
  {
   "cell_type": "code",
   "execution_count": null,
   "id": "mathematical-lighting",
   "metadata": {},
   "outputs": [],
   "source": [
    "for i in data_3[\"geometry\"].iloc(0):\n",
    "    print(i)"
   ]
  },
  {
   "cell_type": "markdown",
   "id": "individual-filling",
   "metadata": {},
   "source": [
    "# Spatial Join on CPU and GPU with indexing and without splitting"
   ]
  },
  {
   "cell_type": "code",
   "execution_count": null,
   "id": "acknowledged-counter",
   "metadata": {
    "scrolled": false
   },
   "outputs": [],
   "source": [
    "from geopandas import GeoDataFrame\n",
    "import geopandas as gpd\n",
    "import pandas as pd\n",
    "from descartes import PolygonPatch\n",
    "from shapely.geometry import Point, Polygon, MultiPolygon\n",
    "\n",
    "from numba.extending import overload\n",
    "\n",
    "import matplotlib.pyplot as plt\n",
    "import time\n",
    "\n",
    "def sjoin_with_indexing(data_1, data_2, device = 'CPU', plot = True):\n",
    "    \n",
    "#     convert input data to Multipolygon as needed by sjoin\n",
    "    geometry_1 = data_1['geometry'].iloc[0]\n",
    "    if isinstance(geometry_1, Polygon):\n",
    "        geometry_1 = MultiPolygon([geometry_1])\n",
    "        \n",
    "    geometry_2 = data_2['geometry'].iloc[0]\n",
    "    if isinstance(geometry_2, Polygon):\n",
    "        geometry_2 = MultiPolygon([geometry_2])\n",
    "        \n",
    "    start_time = time.time()\n",
    "#     indexing data_1\n",
    "    sindex_1 = data_1.sindex\n",
    "    sindex_2 = data_2.sindex\n",
    "    \n",
    "#     filter phase\n",
    "    possible_indices = list(sindex_1.intersection(sindex_2.bounds))\n",
    "    possible_matches = data_1.iloc[possible_indices]\n",
    "    \n",
    "#     refinement phase\n",
    "    precise_matches = possible_matches[possible_matches.intersects(geometry_2)]\n",
    "    # cannot use index structure of data 2 for intersects operation, accepts Series datatype only     \n",
    "    end_time = time.time()\n",
    "    \n",
    "#     plotting the sjoin results \n",
    "    points_within_geometry = precise_matches\n",
    "    points_outside_geometry = data_1[~data_1.isin(points_within_geometry)]\n",
    "    \n",
    "    if plot:\n",
    "        points_within_geometry.plot(ec = \"#0b1878\", figsize=(15,15))\n",
    "    \n",
    "    print(\"S-join without splitting on {0} = {1}\".format(device, end_time - start_time))\n",
    "    \n",
    "@overload(sjoin_with_indexing)\n",
    "def gpu_sjoin_with_indexing(data_1, data_2, device = 'CPU', plot = True):\n",
    "    sjoin_with_indexing(data_1, data_2, device = 'GPU', plot = True)\n",
    "    \n",
    "\n",
    "gdb_data = gpd.read_file(\"Datasets/Geodatabase_format/gROADS-v1-oceania-east.gdb\")\n",
    "data_3 = gpd.read_file(\"Datasets/shape_files/gadm36_IND_3.shp\").set_crs(gdb_data.crs)\n",
    "\n",
    "\n",
    "# sjoin_with_indexing(gdb_data, data_3, plot = False)\n",
    "\n",
    "gpu_sjoin_with_indexing(gdb_data, data_3)\n",
    "\n",
    "# Output isn't correct"
   ]
  },
  {
   "cell_type": "code",
   "execution_count": null,
   "id": "excessive-western",
   "metadata": {},
   "outputs": [],
   "source": []
  },
  {
   "cell_type": "markdown",
   "id": "expensive-consortium",
   "metadata": {},
   "source": [
    "# Convert wkt to GeodataFrames"
   ]
  },
  {
   "cell_type": "code",
   "execution_count": null,
   "id": "hourly-extension",
   "metadata": {},
   "outputs": [],
   "source": [
    "import geopandas as gpd\n",
    "\n",
    "# data = gpd.read_file(\"DatasetsL/land-polygons-complete-4326/land_polygons.shp\")\n",
    "# data_NZ = gpd.read_file(\"DatasetsL/places_dump_20110628/places_dump_NZ.geojson\")\n",
    "data_result =  gpd.read_file(\"Result_within.shp\")"
   ]
  },
  {
   "cell_type": "code",
   "execution_count": null,
   "id": "premium-equivalent",
   "metadata": {},
   "outputs": [],
   "source": [
    "import matplotlib.pyplot as plt\n",
    "\n",
    "f, ax = plt.subplots(figsize=(10, 10))\n",
    "data.plot(ax=ax, color='grey')\n",
    "data_NZ.plot(ax=ax, marker='o', color='blue', markersize=6)\n",
    "data_result.plot(ax=ax, marker='o', color='red', markersize=6)\n",
    "plt.show()"
   ]
  },
  {
   "cell_type": "code",
   "execution_count": null,
   "id": "median-finance",
   "metadata": {},
   "outputs": [],
   "source": []
  },
  {
   "cell_type": "code",
   "execution_count": 1,
   "id": "traditional-folks",
   "metadata": {},
   "outputs": [
    {
     "name": "stderr",
     "output_type": "stream",
     "text": [
      "/home/sjoin/capstone/capstone_venv/lib/python3.6/site-packages/geopandas/geodataframe.py:422: RuntimeWarning: Sequential read of iterator was interrupted. Resetting iterator. This can negatively impact the performance.\n",
      "  for feature in features_lst:\n"
     ]
    }
   ],
   "source": [
    "import geopandas as gpd\n",
    "\n",
    "data =  gpd.read_file(\"./DatasetsL/NHD_H_National_GDB/NHD_H_National_GDB.gdb\")\n",
    "data_land = gpd.read_file(\"DatasetsL/land-polygons-complete-4326/land_polygons.shp\")\n",
    "data_LA = ox.geocode_to_gdf('Los Angeles, California, USA') # Polygon"
   ]
  },
  {
   "cell_type": "code",
   "execution_count": 7,
   "id": "little-reception",
   "metadata": {},
   "outputs": [
    {
     "data": {
      "image/png": "[encoded data removed]",
      "text/plain": [
       "<Figure size 720x720 with 1 Axes>"
      ]
     },
     "metadata": {
      "needs_background": "light"
     },
     "output_type": "display_data"
    }
   ],
   "source": [
    "import matplotlib.pyplot as plt\n",
    "\n",
    "f, ax = plt.subplots(figsize=(10, 10))\n",
    "data_land.plot(ax=ax, color='grey')\n",
    "data.plot(ax=ax, marker='o', color='red', markersize=6)\n",
    "data_LA.plot(ax=ax, color='green')\n",
    "             \n",
    "plt.show()"
   ]
  },
  {
   "cell_type": "code",
   "execution_count": 8,
   "id": "regional-decline",
   "metadata": {},
   "outputs": [
    {
     "data": {
      "text/plain": [
       "<AxesSubplot:>"
      ]
     },
     "execution_count": 8,
     "metadata": {},
     "output_type": "execute_result"
    },
    {
     "data": {
      "image/png": "[encoded data removed]",
      "text/plain": [
       "<Figure size 432x288 with 1 Axes>"
      ]
     },
     "metadata": {
      "needs_background": "light"
     },
     "output_type": "display_data"
    }
   ],
   "source": [
    "data_LA.plot()"
   ]
  },
  {
   "cell_type": "code",
   "execution_count": 2,
   "id": "loose-motor",
   "metadata": {},
   "outputs": [
    {
     "name": "stderr",
     "output_type": "stream",
     "text": [
      "/home/sjoin/capstone/capstone_venv/lib/python3.6/site-packages/geopandas/geodataframe.py:422: RuntimeWarning: Sequential read of iterator was interrupted. Resetting iterator. This can negatively impact the performance.\n",
      "  for feature in features_lst:\n"
     ]
    }
   ],
   "source": [
    "import geopandas as gpd\n",
    "import osmnx as ox\n",
    "\n",
    "points = gpd.read_file(\"./Datasets/Point_dataset/LA_point_dataset.shp\") # Points\n",
    "LA = ox.geocode_to_gdf('Los Angeles, California, USA') # Polygon\n",
    "NZ = gpd.read_file(\"DatasetsL/places_dump_20110628/places_dump_NZ.geojson\")  # Points"
   ]
  },
  {
   "cell_type": "code",
   "execution_count": 3,
   "id": "together-export",
   "metadata": {},
   "outputs": [
    {
     "name": "stdout",
     "output_type": "stream",
     "text": [
      "LA road intersection (point): 298825\n",
      "LA boundary (polygon): 1\n",
      "NZ world points (points): 69524\n"
     ]
    }
   ],
   "source": [
    "print(\"LA road intersection (point):\", len(points))\n",
    "print(\"LA boundary (polygon):\", len(LA))\n",
    "print(\"NZ world points (points):\", len(NZ))"
   ]
  },
  {
   "cell_type": "code",
   "execution_count": 11,
   "id": "copyrighted-penetration",
   "metadata": {},
   "outputs": [
    {
     "name": "stdout",
     "output_type": "stream",
     "text": [
      "0    POLYGON ((-118.66818 34.18507, -118.66817 34.1...\n",
      "Name: geometry, dtype: geometry\n"
     ]
    }
   ],
   "source": [
    "print(LA['geometry'])"
   ]
  },
  {
   "cell_type": "code",
   "execution_count": null,
   "id": "elder-fetish",
   "metadata": {},
   "outputs": [],
   "source": [
    "import geopandas as gp\n",
    "\n",
    "def vertices(path):\n",
    "    \n",
    "    df = gp.read_file(path)\n",
    "\n",
    "    for i, row in df.iterrows():\n",
    "        \n",
    "        multi = row.geometry.type.startswith(\"Multi\")\n",
    "\n",
    "        if multi:\n",
    "            n = 0\n",
    "            # iterate over all parts of multigeometry\n",
    "            for part in row.geometry:\n",
    "                n += len(part.exterior.coords)\n",
    "        else: # if single geometry like point, linestring or polygon\n",
    "            n = len(row.geometry.exterior.coords)\n",
    "\n",
    "        return n"
   ]
  }
 ],
 "metadata": {
  "kernelspec": {
   "display_name": "Python 3",
   "language": "python",
   "name": "python3"
  },
  "language_info": {
   "codemirror_mode": {
    "name": "ipython",
    "version": 3
   },
   "file_extension": ".py",
   "mimetype": "text/x-python",
   "name": "python",
   "nbconvert_exporter": "python",
   "pygments_lexer": "ipython3",
   "version": "3.6.9"
  }
 },
 "nbformat": 4,
 "nbformat_minor": 5
}
