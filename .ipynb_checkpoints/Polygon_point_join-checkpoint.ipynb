{
 "cells": [
  {
   "cell_type": "code",
   "execution_count": null,
   "id": "realistic-above",
   "metadata": {},
   "outputs": [],
   "source": [
    "from IPython.display import Image\n",
    "from IPython.core.display import HTML \n",
    "Image(url= \"https://geopandas.org/_images/overlay_operations.png\")"
   ]
  },
  {
   "cell_type": "markdown",
   "id": "demonstrated-insight",
   "metadata": {},
   "source": [
    "# Visualization of spatial data using PolygonPatch"
   ]
  },
  {
   "cell_type": "code",
   "execution_count": null,
   "id": "unable-trunk",
   "metadata": {},
   "outputs": [],
   "source": [
    "import matplotlib.pyplot as plt\n",
    "from descartes import PolygonPatch\n",
    "from shapely.geometry import Point, Polygon, MultiPolygon\n",
    "\n",
    "def add_geometry(data, ax, geometry = 'polygon', fc = '#cccccc', ec='k'):\n",
    "    \n",
    "    if geometry == 'polygon':\n",
    "        for polygon in data:\n",
    "            patch = PolygonPatch(polygon, fc=fc, ec=ec, alpha=0.5, zorder=2)\n",
    "            ax.add_patch(patch)\n",
    "            \n",
    "    elif geometry == 'point':\n",
    "        ax.scatter(x=data['x'], y=data['y'], s=1, c=fc, linewidth=0, zorder=1)\n",
    "        "
   ]
  },
  {
   "cell_type": "code",
   "execution_count": null,
   "id": "portable-creator",
   "metadata": {},
   "outputs": [],
   "source": [
    "from shapely.geometry import Point, Polygon, MultiPolygon\n",
    "import osmnx as ox\n",
    "import geopandas as gpd\n",
    "\n",
    "def get_point_dataset(location = 'Los Angeles, California, USA', data = gpd.GeoDataFrame()):\n",
    "    \n",
    "    print('Getting point datasets..')\n",
    "    if data.empty:  \n",
    "        data = ox.geocode_to_gdf(location)        \n",
    "    west, south, east, north = data.unary_union.bounds\n",
    "    \n",
    "    G = ox.graph_from_bbox(north, south, east, west, network_type='all', retain_all=True)\n",
    "    xy = [(data['x'], data['y']) for node, data in G.nodes(data=True)]\n",
    "    x, y = list(zip(*xy))\n",
    "    # x - list of all x-coordinates\n",
    "    # y - list of all y-coordinates\n",
    "\n",
    "    points = gpd.GeoDataFrame(data={'x':x, 'y':y})\n",
    "    points['geometry'] = points.apply(lambda row: Point((row['x'], row['y'])), axis=1)\n",
    "    points.crs = data.crs\n",
    "    points['name'] = 'nodes'\n",
    "    \n",
    "    return points"
   ]
  },
  {
   "cell_type": "code",
   "execution_count": null,
   "id": "identical-facing",
   "metadata": {},
   "outputs": [],
   "source": [
    "import osmnx as ox\n",
    "data_1 = ox.geocode_to_gdf('Los Angeles, California, USA') # Polygon\n",
    "data_2 = get_point_dataset(data = data_1) # Point"
   ]
  },
  {
   "cell_type": "code",
   "execution_count": null,
   "id": "italic-belize",
   "metadata": {},
   "outputs": [],
   "source": [
    "data_2.to_file(\"./Datasets/Point_dataset/LA_point_dataset.shp\")\n",
    "data_2"
   ]
  },
  {
   "cell_type": "markdown",
   "id": "conscious-bottle",
   "metadata": {},
   "source": [
    "# Spatial Join on CPU and GPU  - Standard function"
   ]
  },
  {
   "cell_type": "code",
   "execution_count": null,
   "id": "constitutional-jaguar",
   "metadata": {},
   "outputs": [],
   "source": [
    "import time\n",
    "import geopandas as gpd\n",
    "from numba.extending import overload\n",
    "import matplotlib.pyplot as plt\n",
    "\n",
    "# data_1 - point, data_2 = polygon\n",
    "def sjoin_without_indexing(data_1, data_2, device = 'CPU', plot = False):\n",
    "    start_time = time.time()\n",
    "    join_result = gpd.sjoin(data_1, data_2, how=\"inner\", op='intersects')\n",
    "    end_time = time.time()\n",
    "    \n",
    "    print(\"S-join without splitting on {0} = {1}\".format(device, end_time - start_time))\n",
    "    \n",
    "#     plotting the sjoin results \n",
    "    if plot:\n",
    "        \n",
    "        f, ax = plt.subplots(figsize=(10, 10))\n",
    "\n",
    "        data_1.plot(ax = ax, marker = 'o', color = 'blue', markersize = 5)\n",
    "        data_2.plot(ax = ax, color = 'grey')\n",
    "        join_result.plot(ax = ax, marker = 'o', color = 'red', markersize = 5)\n",
    "\n",
    "        plt.show()    \n",
    "    \n",
    "    return join_result\n",
    "\n",
    "@overload(sjoin_without_indexing)\n",
    "def gpu_sjoin_without_indexing(data1, data2, plot = True):\n",
    "    return sjoin_without_indexing(data1, data2, device = 'GPU', plot = plot)"
   ]
  },
  {
   "cell_type": "code",
   "execution_count": null,
   "id": "ideal-entrance",
   "metadata": {
    "scrolled": false
   },
   "outputs": [],
   "source": [
    "from geopandas import GeoDataFrame\n",
    "import geopandas as gpd\n",
    "import pandas as pd\n",
    "import osmnx as ox\n",
    "\n",
    "# data_1 = gpd.read_file(\"./Datasets/Point_dataset/LA_point_dataset.shp\") # Points\n",
    "# data_2 = ox.geocode_to_gdf('Los Angeles, California, USA') # Polygon\n",
    "\n",
    "# data_1 = gpd.read_file(\"DatasetsL/places_dump_20110628/places_dump_NZ.geojson\")  # Points\n",
    "# data_2 = ox.geocode_to_gdf('Los Angeles, California, USA') # Polygon\n",
    "\n",
    "# data_1 = gpd.read_file(\"Datasets/India_hospitals/india_hospitals_point.shp\")  # Points\n",
    "# data_2 = ox.geocode_to_gdf('Karnataka, India') # Polygon\n",
    "\n",
    "data_1 = gpd.read_file(\"DatasetsL/places_dump_20110628/places_dump_FR.geojson\") # Points\n",
    "data_2 = ox.geocode_to_gdf('Mexico') # Polygon\n",
    "\n",
    "std_result = gpu_sjoin_without_indexing(data_1, data_2, plot = False)\n",
    "print(\"Number of points in result:\", len(std_result))"
   ]
  },
  {
   "cell_type": "code",
   "execution_count": null,
   "id": "breeding-atlas",
   "metadata": {},
   "outputs": [],
   "source": [
    "import matplotlib.pyplot as plt\n",
    "\n",
    "f, ax = plt.subplots(figsize=(10, 10))\n",
    "\n",
    "data_1.plot(ax=ax, marker='o', color='blue', markersize=5)\n",
    "data_2.plot(ax=ax, color='grey')\n",
    "result.plot(ax=ax, marker='o', color='red', markersize=5)\n",
    "\n",
    "plt.show()"
   ]
  },
  {
   "cell_type": "code",
   "execution_count": null,
   "id": "electric-heavy",
   "metadata": {},
   "outputs": [],
   "source": []
  },
  {
   "cell_type": "markdown",
   "id": "noticed-chain",
   "metadata": {},
   "source": [
    "# Spatial Join on CPU and GPU - Brute force"
   ]
  },
  {
   "cell_type": "raw",
   "id": "tested-hazard",
   "metadata": {},
   "source": [
    "# Data types: MultiPolygon with MultiLine\n",
    "# Output is incorrect"
   ]
  },
  {
   "cell_type": "code",
   "execution_count": null,
   "id": "checked-cooling",
   "metadata": {
    "scrolled": false
   },
   "outputs": [],
   "source": [
    "from geopandas import GeoDataFrame\n",
    "import geopandas as gpd\n",
    "import pandas as pd\n",
    "from descartes import PolygonPatch\n",
    "from shapely.geometry import Point, Polygon, MultiPolygon\n",
    "\n",
    "from numba.extending import overload\n",
    "\n",
    "import matplotlib.pyplot as plt\n",
    "import time\n",
    "\n",
    "def sjoin_brute_force(data_1, data_2, device = 'CPU', plot = True):\n",
    "    \n",
    "#     convert input data to Multipolygon as needed by sjoin\n",
    "    geometry_2 = data_2['geometry'].iloc[0]\n",
    "    if isinstance(geometry_2, Polygon):\n",
    "        geometry_2 = MultiPolygon([geometry_2])\n",
    "    \n",
    "#     brute force join\n",
    "    start = time.time()\n",
    "    precise_matches = data_1[data_1.intersects(geometry_2)]    \n",
    "    end = time.time()\n",
    "    total_time = end-start\n",
    "    print('Total time:', total_time)\n",
    "    \n",
    "    points_within_geometry = precise_matches\n",
    "    points_outside_geometry = data_1[~data_1.isin(points_within_geometry)]\n",
    "    \n",
    "    print(\"Brute force S-join on {0} = {1}\".format(device, total_time))\n",
    "    \n",
    "#     plotting the sjoin results \n",
    "    if plot:\n",
    "        \n",
    "        f, ax = plt.subplots(figsize=(10, 10))\n",
    "\n",
    "        data_1.plot(ax = ax, marker = 'o', color = 'blue', markersize = 5)\n",
    "        data_2.plot(ax = ax, color = 'grey')\n",
    "        points_within_geometry.plot(ax = ax, marker = 'o', color = 'red', markersize = 5)\n",
    "\n",
    "        plt.show()    \n",
    "    \n",
    "    return points_within_geometry\n",
    "    \n",
    "@overload(sjoin_brute_force)\n",
    "def gpu_sjoin_brute_force(data_1, data_2, device = 'CPU', plot = True):\n",
    "    return sjoin_brute_force(data_1, data_2, device = 'GPU', plot = plot)    \n",
    "\n",
    "\n",
    "import osmnx as ox\n",
    "\n",
    "data_1 = gpd.read_file(\"./Datasets/Point_dataset/LA_point_dataset.shp\") # Points\n",
    "data_2 = ox.geocode_to_gdf('Los Angeles, California, USA') # Polygon\n",
    "\n",
    "index_result = gpu_sjoin_brute_force(data_1, data_2, plot = False)\n",
    "print(\"Number of points in result:\", len(index_result))"
   ]
  },
  {
   "cell_type": "markdown",
   "id": "difficult-baseline",
   "metadata": {},
   "source": [
    "# Spatial Join on CPU and GPU with indexing and without splitting"
   ]
  },
  {
   "cell_type": "raw",
   "id": "assigned-rocket",
   "metadata": {},
   "source": [
    "# Data types: MultiPolygon with MultiLine\n",
    "# Output is incorrect\n",
    "\n",
    "# data_1 = gpd.read_file(\"DatasetsL/places_dump_20110628/places_dump_NZ.geojson\")  # Points\n",
    "# data_2 = ox.geocode_to_gdf('Los Angeles, California, USA') # Polygon\n",
    "\n",
    "# data_1 = gpd.read_file(\"Datasets/India_hospitals/india_hospitals_point.shp\")  # Points\n",
    "# data_2 = ox.geocode_to_gdf('Karnataka, India') # Polygon\n",
    "\n",
    "data_1 = gpd.read_file(\"DatasetsL/places_dump_20110628/places_dump_FR.geojson\") # Points\n",
    "data_2 = ox.geocode_to_gdf('Mexico') # Polygon\n"
   ]
  },
  {
   "cell_type": "code",
   "execution_count": null,
   "id": "cooked-conservative",
   "metadata": {
    "scrolled": false
   },
   "outputs": [],
   "source": [
    "from geopandas import GeoDataFrame\n",
    "import geopandas as gpd\n",
    "import pandas as pd\n",
    "from descartes import PolygonPatch\n",
    "from shapely.geometry import Point, Polygon, MultiPolygon\n",
    "\n",
    "from numba.extending import overload\n",
    "\n",
    "import matplotlib.pyplot as plt\n",
    "import time\n",
    "\n",
    "def sjoin_with_indexing(data_1, data_2, device = 'CPU', plot = True):\n",
    "    \n",
    "#     convert input data to Multipolygon as needed by sjoin\n",
    "    geometry_2 = data_2['geometry'].iloc[0]\n",
    "    if isinstance(geometry_2, Polygon):\n",
    "        geometry_2 = MultiPolygon([geometry_2])\n",
    "        \n",
    "    start = time.time()\n",
    "#     indexing data_2 - point dataset\n",
    "    sindex_1 = data_1.sindex\n",
    "    \n",
    "    end = time.time()\n",
    "    sindex_time = end - start\n",
    "    print('Time taken to index point dataset:', sindex_time)\n",
    "    \n",
    "#     filter phase\n",
    "    start = time.time()\n",
    "    possible_indices = list(sindex_1.intersection(geometry_2.bounds))\n",
    "    end = time.time()\n",
    "    possible_matches = data_1.iloc[possible_indices]\n",
    "    filter_time = end-start\n",
    "    print('Filter time:', filter_time)\n",
    "    print(\"Number of reduced points after filtering:\", len(possible_matches))\n",
    "    \n",
    "#     refinement phase\n",
    "    start = time.time()\n",
    "    # cannot use index structure of data 2 for intersects operation, accepts Series datatype only   \n",
    "    precise_matches = possible_matches[possible_matches.intersects(geometry_2)]  \n",
    "    end = time.time()\n",
    "    refinement_time = end-start\n",
    "    print('Refinement time:', refinement_time)\n",
    "    \n",
    "#     plotting the sjoin results \n",
    "    points_within_geometry = precise_matches\n",
    "    points_outside_geometry = data_1[~data_1.isin(points_within_geometry)]\n",
    "    \n",
    "    print(\"S-join without splitting on {0} = {1}\".format(device, sindex_time + refinement_time + filter_time))\n",
    "    \n",
    "    if plot:\n",
    "        \n",
    "        f, ax = plt.subplots(figsize=(10, 10))\n",
    "\n",
    "        data_1.plot(ax = ax, marker = 'o', color = 'blue', markersize = 5)\n",
    "        data_2.plot(ax = ax, color = 'grey')\n",
    "        points_within_geometry.plot(ax = ax, marker = 'o', color = 'red', markersize = 5)\n",
    "\n",
    "        plt.show()    \n",
    "    \n",
    "    return points_within_geometry\n",
    "    \n",
    "@overload(sjoin_with_indexing)\n",
    "def gpu_sjoin_with_indexing(data_1, data_2, device = 'CPU', plot = True):\n",
    "    return sjoin_with_indexing(data_1, data_2, device = 'GPU', plot = plot)    \n",
    "\n",
    "\n",
    "import osmnx as ox\n",
    "\n",
    "data_1 = gpd.read_file(\"./Datasets/Point_dataset/LA_point_dataset.shp\") # Points\n",
    "data_2 = ox.geocode_to_gdf('Los Angeles, California, USA') # Polygon\n",
    "\n",
    "index_result = gpu_sjoin_with_indexing(data_1, data_2, plot = False)\n",
    "print(\"Number of points in result:\", len(index_result))"
   ]
  },
  {
   "cell_type": "markdown",
   "id": "individual-filling",
   "metadata": {},
   "source": [
    "# Spatial Join on CPU and GPU with indexing and splitting"
   ]
  },
  {
   "cell_type": "raw",
   "id": "tired-asthma",
   "metadata": {},
   "source": [
    "# Data types: MultiPolygon with Points\n",
    "# Data set collected from OpenStreetMaps\n",
    "\n",
    "# data_1 = gpd.read_file(\"DatasetsL/places_dump_20110628/places_dump_NZ.geojson\")  # Points\n",
    "# data_2 = ox.geocode_to_gdf('Los Angeles, California, USA') # Polygon\n",
    "\n",
    "# data_1 = gpd.read_file(\"Datasets/India_hospitals/india_hospitals_point.shp\")  # Points\n",
    "# data_2 = ox.geocode_to_gdf('Karnataka, India') # Polygon\n",
    "\n",
    "data_1 = gpd.read_file(\"DatasetsL/places_dump_20110628/places_dump_FR.geojson\") # Points\n",
    "data_2 = ox.geocode_to_gdf('Mexico') # Polygon"
   ]
  },
  {
   "cell_type": "code",
   "execution_count": 2,
   "id": "accomplished-interval",
   "metadata": {
    "scrolled": false
   },
   "outputs": [
    {
     "name": "stderr",
     "output_type": "stream",
     "text": [
      "/home/sjoin/capstone/capstone_venv/lib/python3.6/site-packages/geopandas/geodataframe.py:422: RuntimeWarning: Sequential read of iterator was interrupted. Resetting iterator. This can negatively impact the performance.\n",
      "  for feature in features_lst:\n"
     ]
    },
    {
     "name": "stdout",
     "output_type": "stream",
     "text": [
      "Time taken to index points:  2.2877707481384277\n",
      "Time taken for sub-partitioning:  0.1925501823425293\n",
      "Number of splits:  42\n",
      "Number of reduced points after filtering: 81\n",
      "Filter time: 0.2495877742767334\n",
      "Refinement time: 0.09488296508789062\n",
      "S-join with splitting on GPU = 2.6322414875030518\n"
     ]
    },
    {
     "data": {
      "image/png": "[encoded data removed]",
      "text/plain": [
       "<Figure size 576x576 with 1 Axes>"
      ]
     },
     "metadata": {
      "needs_background": "light"
     },
     "output_type": "display_data"
    },
    {
     "name": "stdout",
     "output_type": "stream",
     "text": [
      "Number of points in result: 13\n"
     ]
    }
   ],
   "source": [
    "import geopandas as gpd\n",
    "import pandas as pd\n",
    "from descartes import PolygonPatch\n",
    "from shapely.geometry import Point, Polygon, MultiPolygon\n",
    "\n",
    "from numba.extending import overload\n",
    "from numba import jit\n",
    "\n",
    "import matplotlib.pyplot as plt\n",
    "import time\n",
    "\n",
    "import osmnx as ox\n",
    "\n",
    "def sjoin_with_splitting(data_1, data_2, device = 'CPU',split_size = 0.1, plot = True):\n",
    "    \n",
    "#     convert input data to Multipolygon as needed by sjoin\n",
    "    geometry_2 = data_2['geometry'].iloc[0]\n",
    "    if isinstance(geometry_2, Polygon):\n",
    "        geometry_2 = MultiPolygon([geometry_2])\n",
    "          \n",
    "#     indexing data_2\n",
    "    start = time.time()  \n",
    "    sindex_1 = data_1.sindex\n",
    "    end = time.time()\n",
    "    \n",
    "    sindex_time = end-start\n",
    "    print('Time taken to index points: ', sindex_time)\n",
    "\n",
    "    points_within_geometry = pd.DataFrame()\n",
    "    filter_time = 0\n",
    "    refinement_time = 0\n",
    "\n",
    "#     Splitting polygon data into squares of width 0.1\n",
    "    start = time.time()\n",
    "    geometry_cut = ox.utils_geo._quadrat_cut_geometry(geometry_2, quadrat_width = split_size)\n",
    "    end = time.time()\n",
    "    filter_time += (end-start)\n",
    "    print('Time taken for sub-partitioning: ', filter_time)\n",
    "    \n",
    "    filter_points = 0\n",
    "    \n",
    "    for sub_poly in geometry_cut:  \n",
    "        \n",
    "        # filter phase \n",
    "        start = time.time()\n",
    "        sub_poly = sub_poly.buffer(1e-14).buffer(0)\n",
    "        possible_indices = list(sindex_1.intersection(sub_poly.bounds))\n",
    "        possible_matches = data_1.iloc[possible_indices]\n",
    "        end = time.time()\n",
    "        filter_time += (end-start)\n",
    "        filter_points += len(possible_matches)\n",
    "\n",
    "        # refinement phase\n",
    "        start = time.time()\n",
    "        precise_matches = possible_matches[possible_matches.intersects(sub_poly)]\n",
    "        points_within_geometry = points_within_geometry.append(precise_matches)\n",
    "        end = time.time()\n",
    "        refinement_time += (end-start)\n",
    "    \n",
    "    print('Number of splits: ', len(geometry_cut))\n",
    "    print(\"Number of reduced points after filtering:\", filter_points)\n",
    "    print('Filter time:', filter_time)\n",
    "    print('Refinement time:', refinement_time)\n",
    "    print(\"S-join with splitting on {0} = {1}\".format(device, sindex_time + filter_time +  refinement_time)) \n",
    "\n",
    "#     plotting the sjoin results      \n",
    "    if plot:        \n",
    "#         f, ax = plt.subplots(figsize=(10, 10))\n",
    "        \n",
    "#         data_1.plot(ax = ax, marker = 'o', color = 'blue', markersize = 5)\n",
    "#         data_2.plot(ax = ax, color = 'grey')\n",
    "#         points_within_geometry.plot(ax = ax, marker = 'o', color = 'red', markersize = 5)\n",
    "\n",
    "#         plt.show()\n",
    "        west, south, east, north = data_2.unary_union.bounds\n",
    "        fig, ax = plt.subplots(figsize=(8, 8))\n",
    "        for polygon in geometry_cut:\n",
    "            patch = PolygonPatch(polygon, fc='#cccccc', ec='k', alpha=0.5, zorder=2)\n",
    "            ax.add_patch(patch)\n",
    "#         data_1.plot(ax = ax, marker = 'o', color = 'blue', markersize = 5)\n",
    "        points_within_geometry.plot(ax = ax, marker = 'o', color = 'red', markersize = 5)\n",
    "\n",
    "        ax.set_xlim(west, east)\n",
    "        ax.set_ylim(south, north)\n",
    "        ax.axis('off')\n",
    "        plt.show()\n",
    "    \n",
    "    return points_within_geometry\n",
    "#     return geometry_cut\n",
    "    \n",
    "@overload(sjoin_with_splitting)\n",
    "def gpu_sjoin_with_splitting(data_1, data_2, device = 'GPU',split_size = 0.1, plot = True):\n",
    "    return sjoin_with_splitting(data_1, data_2, device, split_size, plot)\n",
    "\n",
    "import osmnx as ox\n",
    "\n",
    "data_1 = gpd.read_file(\"./Datasets/Point_dataset/LA_point_dataset.shp\") # Points\n",
    "data_2 = ox.geocode_to_gdf('Los Angeles, California, USA') # Polygon\n",
    "\n",
    "# data_1 = gpd.read_file(\"DatasetsL/places_dump_20110628/places_dump_NZ.geojson\")  # Points\n",
    "# data_2 = ox.geocode_to_gdf('Los Angeles, California, USA')\n",
    "\n",
    "# data_1 = gpd.read_file(\"Datasets/India_hospitals/india_hospitals_point.shp\")  # Points\n",
    "# data_2 = ox.geocode_to_gdf('Karnataka, India') # Polygon\n",
    "\n",
    "# data_1 = gpd.read_file(\"DatasetsL/places_dump_20110628/places_dump_FR.geojson\") # Points\n",
    "# data_2 = ox.geocode_to_gdf('Mexico') # Polygon\n",
    "\n",
    "split_result = gpu_sjoin_with_splitting(data_1, data_2, split_size = 0.1, plot = True)\n",
    "print(\"Number of points in result:\", len(split_result))"
   ]
  },
  {
   "cell_type": "code",
   "execution_count": null,
   "id": "turkish-living",
   "metadata": {},
   "outputs": [],
   "source": [
    "data_2.plot()"
   ]
  },
  {
   "cell_type": "markdown",
   "id": "expensive-consortium",
   "metadata": {},
   "source": [
    "# Convert wkt to GeodataFrames"
   ]
  },
  {
   "cell_type": "code",
   "execution_count": null,
   "id": "designed-campaign",
   "metadata": {},
   "outputs": [],
   "source": [
    "\n",
    "\n",
    "# data_1 = gpd.read_file(\"DatasetsL/places_dump_20110628/places_dump_NZ.geojson\")  # Points\n",
    "# data_2 = ox.geocode_to_gdf('Los Angeles, California, USA')\n",
    "\n",
    "# data_1 = gpd.read_file(\"Datasets/India_hospitals/india_hospitals_point.shp\")  # Points\n",
    "# data_2 = ox.geocode_to_gdf('Karnataka, India') # Polygon\n",
    "\n",
    "# data_1 = gpd.read_file(\"DatasetsL/places_dump_20110628/places_dump_FR.geojson\") # Points\n",
    "# data_2 = ox.geocode_to_gdf('Mexico') # Polygon"
   ]
  },
  {
   "cell_type": "code",
   "execution_count": null,
   "id": "convinced-final",
   "metadata": {},
   "outputs": [],
   "source": [
    "from shapely import wkt\n",
    "\n",
    "wkt_csv_data = pd.read_csv(\"Datasets/wkt_format/primaryroads_wkt.csv\")\n",
    "wkt_csv_data = wkt_csv_data[].apply(wkt.loads)\n",
    "\n",
    "wkt_gdf_data = gpd.GeoDataFrame(wkt_csv_data)\n",
    "\n",
    "wkt_gdf_data.plot(ec = \"#0b1878\", figsize=(24,24))"
   ]
  },
  {
   "cell_type": "code",
   "execution_count": null,
   "id": "voluntary-glory",
   "metadata": {},
   "outputs": [],
   "source": [
    "import osmnx as ox\n",
    "data_1 = ox.geocode_to_gdf('Los Angeles, California, USA') # Multipolygon\n",
    "data_1.plot()\n",
    "print(data_1.bounds)"
   ]
  },
  {
   "cell_type": "code",
   "execution_count": null,
   "id": "recognized-glossary",
   "metadata": {},
   "outputs": [],
   "source": []
  },
  {
   "cell_type": "code",
   "execution_count": null,
   "id": "electrical-deployment",
   "metadata": {},
   "outputs": [],
   "source": []
  },
  {
   "cell_type": "code",
   "execution_count": null,
   "id": "alone-advocacy",
   "metadata": {},
   "outputs": [],
   "source": [
    "import osmnx as ox, matplotlib.pyplot as plt, pandas as pd, geopandas as gpd\n",
    "from descartes import PolygonPatch\n",
    "from shapely.geometry import Point, Polygon, MultiPolygon\n",
    "\n",
    "geometry = ox.geocode_to_gdf('Karnataka, India')\n",
    "geometry = geometry['geometry'].iloc[0]\n",
    "if isinstance(geometry, Polygon):\n",
    "    geometry = MultiPolygon([geometry])\n",
    "geometry_cut = ox.utils_geo._quadrat_cut_geometry(geometry, quadrat_width=0.1)\n",
    "\n",
    "fig, ax = plt.subplots(figsize=(6,6))\n",
    "for polygon in geometry_cut:\n",
    "    patch = PolygonPatch(polygon, fc='grey', ec='k', alpha=0.5, zorder=2)\n",
    "    ax.add_patch(patch)\n",
    "\n",
    "# ax.set_xlim(west, east)\n",
    "# ax.set_ylim(south, north)\n",
    "# ax.axis('off')\n",
    "plt.show()"
   ]
  },
  {
   "cell_type": "code",
   "execution_count": null,
   "id": "informative-progressive",
   "metadata": {},
   "outputs": [],
   "source": []
  },
  {
   "cell_type": "code",
   "execution_count": null,
   "id": "coordinated-lloyd",
   "metadata": {},
   "outputs": [],
   "source": []
  }
 ],
 "metadata": {
  "kernelspec": {
   "display_name": "Python 3",
   "language": "python",
   "name": "python3"
  },
  "language_info": {
   "codemirror_mode": {
    "name": "ipython",
    "version": 3
   },
   "file_extension": ".py",
   "mimetype": "text/x-python",
   "name": "python",
   "nbconvert_exporter": "python",
   "pygments_lexer": "ipython3",
   "version": "3.6.9"
  }
 },
 "nbformat": 4,
 "nbformat_minor": 5
}
