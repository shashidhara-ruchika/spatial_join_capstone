{
 "cells": [
  {
   "cell_type": "markdown",
   "id": "continent-sunset",
   "metadata": {},
   "source": [
    "# Visualization of spatial data using KeplerGL"
   ]
  },
  {
   "cell_type": "code",
   "execution_count": null,
   "id": "median-freeze",
   "metadata": {},
   "outputs": [],
   "source": [
    "from keplergl import KeplerGl \n",
    "from geopandas import GeoDataFrame\n",
    "import geopandas as gpd\n",
    "import pandas as pd\n",
    "import osmnx as ox\n",
    "\n",
    "# KeplerGl consumes lot of time and space, not advisable to use it for visualization purposes of huge datasets.\n",
    "\n",
    "def visualize_file(shape, to_crs_value = None):\n",
    "    \n",
    "    map = KeplerGl(height=500)\n",
    "    gpdshape1 = gpd.read_file(shape)\n",
    "    \n",
    "    if(to_crs_value != None):\n",
    "        gpdshape1.crs = \"EPSG:4326\"\n",
    "        \n",
    "    map.add_data(data=gpdshape1, name=shape)\n",
    "    shape = shape.split('/')[-1]\n",
    "    file_name = shape.split('.')[-2]\n",
    "    map.save_to_html(file_name='Visualizations/' + file_name + '.html', read_only=True)    \n",
    "    \n",
    "def  visualize_join(shape_1, shape_2):\n",
    "    \n",
    "    map_1 = KeplerGl(height=500)\n",
    "    gpdshape1 = gpd.read_file(shape_1)\n",
    "    shape_1 = shape_1.split('/')[-1]\n",
    "    file_1 = shape_1.split('.')[-2]\n",
    "    gpdshape1.crs = \"EPSG:4326\"\n",
    "    \n",
    "    map_2 = KeplerGl(height=500)\n",
    "    gpdshape2 = gpd.read_file(shape_2)\n",
    "    shape_2 = shape_2.split('/')[-1]\n",
    "    file_2 = shape_2.split('.')[-2]\n",
    "    \n",
    "    map_3 = KeplerGl(height=500)\n",
    "    join_result = gpd.sjoin(gpdshape1, gpdshape2, how=\"inner\", op='contains')\n",
    "    map_3.add_data(data=join_result, name=\"join_result\")\n",
    "    map_3.save_to_html(file_name='Visualizations/'+file_1+'_join_'+file_2+'.html', read_only=True)"
   ]
  },
  {
   "cell_type": "code",
   "execution_count": null,
   "id": "indirect-atlantic",
   "metadata": {},
   "outputs": [],
   "source": [
    "visualize_file(\"Datasets/shape_files/gadm36_IND_0.shp\", 4362)"
   ]
  },
  {
   "cell_type": "code",
   "execution_count": null,
   "id": "realistic-above",
   "metadata": {},
   "outputs": [],
   "source": [
    "from IPython.display import Image\n",
    "from IPython.core.display import HTML \n",
    "Image(url= \"https://geopandas.org/_images/overlay_operations.png\")"
   ]
  },
  {
   "cell_type": "markdown",
   "id": "conscious-bottle",
   "metadata": {},
   "source": [
    "# Spatial Join on CPU and GPU without indexing and splitting"
   ]
  },
  {
   "cell_type": "code",
   "execution_count": null,
   "id": "constitutional-jaguar",
   "metadata": {},
   "outputs": [],
   "source": [
    "import time\n",
    "import geopandas as gpd\n",
    "from numba.extending import overload\n",
    "import matplotlib.pyplot as plt\n",
    "\n",
    "def sjoin_without_indexing(data_1, data_2, device = 'CPU', plot = True):\n",
    "    start_time = time.time()\n",
    "    join_result = gpd.sjoin(data_1, data_2, how=\"inner\", op='intersects')\n",
    "    end_time = time.time()\n",
    "    print(\"S-join without splitting on {0} = {1}\".format(device, end_time - start_time))\n",
    "    \n",
    "    if plot:        \n",
    "        join_result.plot(ec = \"#0b1878\", figsize=(15,15))\n",
    "\n",
    "@overload(sjoin_without_indexing)\n",
    "def gpu_sjoin_without_indexing(data1, data2, plot = True):\n",
    "    sjoin_without_indexing(data1, data2, device = 'GPU', plot = plot)"
   ]
  },
  {
   "cell_type": "code",
   "execution_count": null,
   "id": "ideal-entrance",
   "metadata": {
    "scrolled": false
   },
   "outputs": [],
   "source": [
    "from geopandas import GeoDataFrame\n",
    "import geopandas as gpd\n",
    "import pandas as pd\n",
    "\n",
    "gdb_data = gpd.read_file(\"../Working_code/Datasets/Geodatabase_format/gROADS-v1-oceania-east.gdb\")\n",
    "data_3 = gpd.read_file(\"../Working_code/Datasets/shape_files/gadm36_IND_3.shp\").set_crs(gdb_data.crs)\n",
    "\n",
    "sjoin_without_indexing(gdb_data, data_3, plot = False)\n",
    "\n",
    "gpu_sjoin_without_indexing(gdb_data, data_3, plot = True)"
   ]
  },
  {
   "cell_type": "markdown",
   "id": "thrown-money",
   "metadata": {},
   "source": [
    "# Spatial Join on CPU and GPU with indexing and without splitting"
   ]
  },
  {
   "cell_type": "raw",
   "id": "streaming-exhibition",
   "metadata": {},
   "source": [
    "# Data types: MultiPolygon with MultiLine\n",
    "# Output is incorrect"
   ]
  },
  {
   "cell_type": "code",
   "execution_count": null,
   "id": "mediterranean-doctor",
   "metadata": {
    "scrolled": false
   },
   "outputs": [],
   "source": [
    "from geopandas import GeoDataFrame\n",
    "import geopandas as gpd\n",
    "import pandas as pd\n",
    "from descartes import PolygonPatch\n",
    "from shapely.geometry import Point, Polygon, MultiPolygon\n",
    "\n",
    "from numba.extending import overload\n",
    "\n",
    "import matplotlib.pyplot as plt\n",
    "import time\n",
    "\n",
    "def sjoin_with_indexing(data_1, data_2, device = 'CPU', plot = True):\n",
    "    \n",
    "#     convert input data to Multipolygon as needed by sjoin\n",
    "    geometry_1 = data_1['geometry'].iloc[0]\n",
    "    if isinstance(geometry_1, Polygon):\n",
    "        geometry_1 = MultiPolygon([geometry_1])\n",
    "        \n",
    "    geometry_2 = data_2['geometry'].iloc[0]\n",
    "    if isinstance(geometry_2, Polygon):\n",
    "        geometry_2 = MultiPolygon([geometry_2])\n",
    "        \n",
    "    start_time = time.time()\n",
    "#     indexing data_1\n",
    "    sindex_1 = data_1.sindex\n",
    "    \n",
    "#     filter phase\n",
    "    possible_indices = list(sindex_1.intersection(geometry_2.bounds))\n",
    "    possible_matches = data_1.iloc[possible_indices]\n",
    "    \n",
    "#     refinement phase\n",
    "    precise_matches = possible_matches[possible_matches.intersects(geometry_2)]\n",
    "    # cannot use index structure of data 2 for intersects operation, accepts Series datatype only     \n",
    "    end_time = time.time()\n",
    "    \n",
    "#     plotting the sjoin results \n",
    "    points_within_geometry = precise_matches\n",
    "    points_outside_geometry = data_1[~data_1.isin(points_within_geometry)]\n",
    "    \n",
    "    if plot:\n",
    "        points_within_geometry.plot(ec = \"#0b1878\", figsize=(15,15))\n",
    "    \n",
    "    print(\"S-join without splitting on {0} = {1}\".format(device, end_time - start_time))\n",
    "    \n",
    "@overload(sjoin_with_indexing)\n",
    "def gpu_sjoin_with_indexing(data_1, data_2, device = 'CPU', plot = True):\n",
    "    sjoin_with_indexing(data_1, data_2, device = 'GPU', plot = True)\n",
    "    \n",
    "\n",
    "gdb_data = gpd.read_file(\"../Working_code/Datasets/Geodatabase_format/gROADS-v1-oceania-east.gdb\") # MultiLine\n",
    "data_3 = gpd.read_file(\"../Working_code/Datasets/shape_files/gadm36_IND_3.shp\").set_crs(gdb_data.crs) # MultiPolygon\n",
    "\n",
    "sjoin_with_indexing(gdb_data, data_3, plot = False)\n",
    "\n",
    "gpu_sjoin_with_indexing(gdb_data, data_3)\n",
    "\n",
    "# Output isn't correct"
   ]
  },
  {
   "cell_type": "code",
   "execution_count": null,
   "id": "breeding-masters",
   "metadata": {},
   "outputs": [],
   "source": []
  },
  {
   "cell_type": "markdown",
   "id": "expensive-consortium",
   "metadata": {},
   "source": [
    "# Convert wkt to GeodataFrames"
   ]
  },
  {
   "cell_type": "code",
   "execution_count": null,
   "id": "convinced-final",
   "metadata": {},
   "outputs": [],
   "source": [
    "from shapely import wkt\n",
    "\n",
    "wkt_csv_data = pd.read_csv(\"Datasets/wkt_format/primaryroads_wkt.csv\")\n",
    "wkt_csv_data = wkt_csv_data[].apply(wkt.loads)\n",
    "\n",
    "wkt_gdf_data = gpd.GeoDataFrame(wkt_csv_data)\n",
    "\n",
    "wkt_gdf_data.plot(ec = \"#0b1878\", figsize=(24,24))"
   ]
  },
  {
   "cell_type": "code",
   "execution_count": 1,
   "id": "intellectual-walter",
   "metadata": {},
   "outputs": [
    {
     "name": "stdout",
     "output_type": "stream",
     "text": [
      "         minx       miny       maxx       maxy\n",
      "0 -118.951722  32.796929 -117.64627  34.823312\n"
     ]
    },
    {
     "data": {
      "image/png": "[encoded data removed]",
      "text/plain": [
       "<Figure size 432x288 with 1 Axes>"
      ]
     },
     "metadata": {
      "needs_background": "light"
     },
     "output_type": "display_data"
    }
   ],
   "source": [
    "import osmnx as ox\n",
    "data_1 = ox.geocode_to_gdf('Los Angeles, California, USA') # Multipolygon\n",
    "data_1.plot()\n",
    "print(data_1.bounds)"
   ]
  },
  {
   "cell_type": "code",
   "execution_count": null,
   "id": "indian-silence",
   "metadata": {},
   "outputs": [],
   "source": []
  }
 ],
 "metadata": {
  "kernelspec": {
   "display_name": "Python 3",
   "language": "python",
   "name": "python3"
  },
  "language_info": {
   "codemirror_mode": {
    "name": "ipython",
    "version": 3
   },
   "file_extension": ".py",
   "mimetype": "text/x-python",
   "name": "python",
   "nbconvert_exporter": "python",
   "pygments_lexer": "ipython3",
   "version": "3.6.9"
  }
 },
 "nbformat": 4,
 "nbformat_minor": 5
}
