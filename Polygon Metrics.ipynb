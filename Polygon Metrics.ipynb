{
 "cells": [
  {
   "cell_type": "code",
   "execution_count": 1,
   "id": "27448d9d",
   "metadata": {},
   "outputs": [
    {
     "name": "stdout",
     "output_type": "stream",
     "text": [
      "Defaulting to user installation because normal site-packages is not writeable\n",
      "Requirement already satisfied: numpy in /Users/ruchikashashidhara/Library/Python/3.8/lib/python/site-packages (1.22.2)\n",
      "\u001b[33mWARNING: You are using pip version 22.0.3; however, version 22.3.1 is available.\n",
      "You should consider upgrading via the '/Applications/Xcode.app/Contents/Developer/usr/bin/python3 -m pip install --upgrade pip' command.\u001b[0m\u001b[33m\n",
      "\u001b[0m"
     ]
    }
   ],
   "source": [
    "import sys\n",
    "!{sys.executable} -m pip install numpy"
   ]
  },
  {
   "cell_type": "code",
   "execution_count": 2,
   "id": "df0c2b4a",
   "metadata": {},
   "outputs": [
    {
     "name": "stdout",
     "output_type": "stream",
     "text": [
      "Defaulting to user installation because normal site-packages is not writeable\n",
      "Requirement already satisfied: pandas in /Users/ruchikashashidhara/Library/Python/3.8/lib/python/site-packages (1.4.1)\n",
      "Requirement already satisfied: pytz>=2020.1 in /Users/ruchikashashidhara/Library/Python/3.8/lib/python/site-packages (from pandas) (2021.3)\n",
      "Requirement already satisfied: python-dateutil>=2.8.1 in /Users/ruchikashashidhara/Library/Python/3.8/lib/python/site-packages (from pandas) (2.8.2)\n",
      "Requirement already satisfied: numpy>=1.20.0 in /Users/ruchikashashidhara/Library/Python/3.8/lib/python/site-packages (from pandas) (1.22.2)\n",
      "Requirement already satisfied: six>=1.5 in /Applications/Xcode.app/Contents/Developer/Library/Frameworks/Python3.framework/Versions/3.8/lib/python3.8/site-packages (from python-dateutil>=2.8.1->pandas) (1.15.0)\n",
      "\u001b[33mWARNING: You are using pip version 22.0.3; however, version 22.3.1 is available.\n",
      "You should consider upgrading via the '/Applications/Xcode.app/Contents/Developer/usr/bin/python3 -m pip install --upgrade pip' command.\u001b[0m\u001b[33m\n",
      "\u001b[0m"
     ]
    }
   ],
   "source": [
    "!{sys.executable} -m pip install pandas"
   ]
  },
  {
   "cell_type": "code",
   "execution_count": 3,
   "id": "cbbe59b8",
   "metadata": {},
   "outputs": [
    {
     "name": "stdout",
     "output_type": "stream",
     "text": [
      "Defaulting to user installation because normal site-packages is not writeable\n",
      "Collecting osmnx\n",
      "  Downloading osmnx-1.2.2-py2.py3-none-any.whl (92 kB)\n",
      "\u001b[2K     \u001b[38;2;114;156;31m━━━━━━━━━━━━━━━━━━━━━━━━━━━━━━━━━━━━━━━━\u001b[0m \u001b[32m92.5/92.5 KB\u001b[0m \u001b[31m1.6 MB/s\u001b[0m eta \u001b[36m0:00:00\u001b[0mm eta \u001b[36m0:00:01\u001b[0m\n",
      "\u001b[?25hCollecting matplotlib>=3.5\n",
      "  Downloading matplotlib-3.6.2-cp38-cp38-macosx_11_0_arm64.whl (7.2 MB)\n",
      "\u001b[2K     \u001b[38;2;114;156;31m━━━━━━━━━━━━━━━━━━━━━━━━━━━━━━━━━━━━━━━━\u001b[0m \u001b[32m7.2/7.2 MB\u001b[0m \u001b[31m6.6 MB/s\u001b[0m eta \u001b[36m0:00:00\u001b[0mm eta \u001b[36m0:00:01\u001b[0m0:01\u001b[0m:01\u001b[0m\n",
      "\u001b[?25hCollecting networkx>=2.8\n",
      "  Downloading networkx-2.8.8-py3-none-any.whl (2.0 MB)\n",
      "\u001b[2K     \u001b[38;2;114;156;31m━━━━━━━━━━━━━━━━━━━━━━━━━━━━━━━━━━━━━━━━\u001b[0m \u001b[32m2.0/2.0 MB\u001b[0m \u001b[31m7.0 MB/s\u001b[0m eta \u001b[36m0:00:00\u001b[0mm eta \u001b[36m0:00:01\u001b[0m[36m0:00:01\u001b[0m\n",
      "\u001b[?25hRequirement already satisfied: numpy>=1.22 in /Users/ruchikashashidhara/Library/Python/3.8/lib/python/site-packages (from osmnx) (1.22.2)\n",
      "Collecting pyproj>=3.3\n",
      "  Downloading pyproj-3.4.1-cp38-cp38-macosx_11_0_arm64.whl (5.7 MB)\n",
      "\u001b[2K     \u001b[38;2;114;156;31m━━━━━━━━━━━━━━━━━━━━━━━━━━━━━━━━━━━━━━━━\u001b[0m \u001b[32m5.7/5.7 MB\u001b[0m \u001b[31m7.3 MB/s\u001b[0m eta \u001b[36m0:00:00\u001b[0mm eta \u001b[36m0:00:01\u001b[0m[36m0:00:01\u001b[0m\n",
      "\u001b[?25hCollecting Shapely<2.0,>=1.8\n",
      "  Downloading Shapely-1.8.5.post1-cp38-cp38-macosx_11_0_arm64.whl (1.1 MB)\n",
      "\u001b[2K     \u001b[38;2;114;156;31m━━━━━━━━━━━━━━━━━━━━━━━━━━━━━━━━━━━━━━━━\u001b[0m \u001b[32m1.1/1.1 MB\u001b[0m \u001b[31m4.7 MB/s\u001b[0m eta \u001b[36m0:00:00\u001b[0m[31m5.2 MB/s\u001b[0m eta \u001b[36m0:00:01\u001b[0m\n",
      "\u001b[?25hRequirement already satisfied: pandas>=1.4 in /Users/ruchikashashidhara/Library/Python/3.8/lib/python/site-packages (from osmnx) (1.4.1)\n",
      "Collecting geopandas>=0.11\n",
      "  Downloading geopandas-0.12.2-py3-none-any.whl (1.1 MB)\n",
      "\u001b[2K     \u001b[38;2;114;156;31m━━━━━━━━━━━━━━━━━━━━━━━━━━━━━━━━━━━━━━━━\u001b[0m \u001b[32m1.1/1.1 MB\u001b[0m \u001b[31m5.3 MB/s\u001b[0m eta \u001b[36m0:00:00\u001b[0mm eta \u001b[36m0:00:01\u001b[0m0:01\u001b[0m:01\u001b[0m\n",
      "\u001b[?25hCollecting Rtree>=1.0\n",
      "  Downloading Rtree-1.0.1-cp38-cp38-macosx_11_0_arm64.whl (814 kB)\n",
      "\u001b[2K     \u001b[38;2;114;156;31m━━━━━━━━━━━━━━━━━━━━━━━━━━━━━━━━━━━━━━━\u001b[0m \u001b[32m814.5/814.5 KB\u001b[0m \u001b[31m5.4 MB/s\u001b[0m eta \u001b[36m0:00:00\u001b[0mm eta \u001b[36m0:00:01\u001b[0m[36m0:00:01\u001b[0m\n",
      "\u001b[?25hCollecting requests>=2.28\n",
      "  Downloading requests-2.28.1-py3-none-any.whl (62 kB)\n",
      "\u001b[2K     \u001b[38;2;114;156;31m━━━━━━━━━━━━━━━━━━━━━━━━━━━━━━━━━━━━━━━━\u001b[0m \u001b[32m62.8/62.8 KB\u001b[0m \u001b[31m1.7 MB/s\u001b[0m eta \u001b[36m0:00:00\u001b[0m\n",
      "\u001b[?25hRequirement already satisfied: packaging in /Users/ruchikashashidhara/Library/Python/3.8/lib/python/site-packages (from geopandas>=0.11->osmnx) (21.3)\n",
      "Collecting fiona>=1.8\n",
      "  Downloading Fiona-1.8.22.tar.gz (1.4 MB)\n",
      "\u001b[2K     \u001b[38;2;114;156;31m━━━━━━━━━━━━━━━━━━━━━━━━━━━━━━━━━━━━━━━━\u001b[0m \u001b[32m1.4/1.4 MB\u001b[0m \u001b[31m6.2 MB/s\u001b[0m eta \u001b[36m0:00:00\u001b[0mm eta \u001b[36m0:00:01\u001b[0m0:01\u001b[0m:01\u001b[0m\n",
      "\u001b[?25h  Preparing metadata (setup.py) ... \u001b[?25ldone\n",
      "\u001b[?25hCollecting cycler>=0.10\n",
      "  Downloading cycler-0.11.0-py3-none-any.whl (6.4 kB)\n",
      "Requirement already satisfied: python-dateutil>=2.7 in /Users/ruchikashashidhara/Library/Python/3.8/lib/python/site-packages (from matplotlib>=3.5->osmnx) (2.8.2)\n",
      "Collecting pillow>=6.2.0\n",
      "  Downloading Pillow-9.3.0-cp38-cp38-macosx_11_0_arm64.whl (2.9 MB)\n",
      "\u001b[2K     \u001b[38;2;114;156;31m━━━━━━━━━━━━━━━━━━━━━━━━━━━━━━━━━━━━━━━━\u001b[0m \u001b[32m2.9/2.9 MB\u001b[0m \u001b[31m6.5 MB/s\u001b[0m eta \u001b[36m0:00:00\u001b[0mm eta \u001b[36m0:00:01\u001b[0m0:01\u001b[0m:01\u001b[0m\n",
      "\u001b[?25hRequirement already satisfied: pyparsing>=2.2.1 in /Users/ruchikashashidhara/Library/Python/3.8/lib/python/site-packages (from matplotlib>=3.5->osmnx) (3.0.7)\n",
      "Collecting fonttools>=4.22.0\n",
      "  Downloading fonttools-4.38.0-py3-none-any.whl (965 kB)\n",
      "\u001b[2K     \u001b[38;2;114;156;31m━━━━━━━━━━━━━━━━━━━━━━━━━━━━━━━━━━━━━━━\u001b[0m \u001b[32m965.4/965.4 KB\u001b[0m \u001b[31m5.6 MB/s\u001b[0m eta \u001b[36m0:00:00\u001b[0mm eta \u001b[36m0:00:01\u001b[0m[36m0:00:01\u001b[0m\n",
      "\u001b[?25hCollecting kiwisolver>=1.0.1\n",
      "  Downloading kiwisolver-1.4.4-cp38-cp38-macosx_11_0_arm64.whl (63 kB)\n",
      "\u001b[2K     \u001b[38;2;114;156;31m━━━━━━━━━━━━━━━━━━━━━━━━━━━━━━━━━━━━━━━━\u001b[0m \u001b[32m63.2/63.2 KB\u001b[0m \u001b[31m2.1 MB/s\u001b[0m eta \u001b[36m0:00:00\u001b[0m\n",
      "\u001b[?25hCollecting contourpy>=1.0.1\n",
      "  Downloading contourpy-1.0.6-cp38-cp38-macosx_11_0_arm64.whl (225 kB)\n",
      "\u001b[2K     \u001b[38;2;114;156;31m━━━━━━━━━━━━━━━━━━━━━━━━━━━━━━━━━━━━━━━\u001b[0m \u001b[32m225.7/225.7 KB\u001b[0m \u001b[31m3.9 MB/s\u001b[0m eta \u001b[36m0:00:00\u001b[0mm eta \u001b[36m0:00:01\u001b[0m\n",
      "\u001b[?25hRequirement already satisfied: pytz>=2020.1 in /Users/ruchikashashidhara/Library/Python/3.8/lib/python/site-packages (from pandas>=1.4->osmnx) (2021.3)\n",
      "Requirement already satisfied: certifi in /Users/ruchikashashidhara/Library/Python/3.8/lib/python/site-packages (from pyproj>=3.3->osmnx) (2021.10.8)\n",
      "Requirement already satisfied: charset-normalizer<3,>=2 in /Users/ruchikashashidhara/Library/Python/3.8/lib/python/site-packages (from requests>=2.28->osmnx) (2.0.12)\n",
      "Requirement already satisfied: idna<4,>=2.5 in /Users/ruchikashashidhara/Library/Python/3.8/lib/python/site-packages (from requests>=2.28->osmnx) (3.3)\n",
      "Requirement already satisfied: urllib3<1.27,>=1.21.1 in /Users/ruchikashashidhara/Library/Python/3.8/lib/python/site-packages (from requests>=2.28->osmnx) (1.26.8)\n",
      "Requirement already satisfied: attrs>=17 in /Users/ruchikashashidhara/Library/Python/3.8/lib/python/site-packages (from fiona>=1.8->geopandas>=0.11->osmnx) (21.4.0)\n",
      "Collecting click>=4.0\n",
      "  Downloading click-8.1.3-py3-none-any.whl (96 kB)\n",
      "\u001b[2K     \u001b[38;2;114;156;31m━━━━━━━━━━━━━━━━━━━━━━━━━━━━━━━━━━━━━━━━\u001b[0m \u001b[32m96.6/96.6 KB\u001b[0m \u001b[31m2.4 MB/s\u001b[0m eta \u001b[36m0:00:00\u001b[0m MB/s\u001b[0m eta \u001b[36m0:00:01\u001b[0m\n",
      "\u001b[?25hCollecting cligj>=0.5\n",
      "  Downloading cligj-0.7.2-py3-none-any.whl (7.1 kB)\n",
      "Collecting click-plugins>=1.0\n",
      "  Downloading click_plugins-1.1.1-py2.py3-none-any.whl (7.5 kB)\n",
      "Requirement already satisfied: six>=1.7 in /Applications/Xcode.app/Contents/Developer/Library/Frameworks/Python3.framework/Versions/3.8/lib/python3.8/site-packages (from fiona>=1.8->geopandas>=0.11->osmnx) (1.15.0)\n",
      "Collecting munch\n",
      "  Downloading munch-2.5.0-py2.py3-none-any.whl (10 kB)\n",
      "Requirement already satisfied: setuptools in /Applications/Xcode.app/Contents/Developer/Library/Frameworks/Python3.framework/Versions/3.8/lib/python3.8/site-packages (from fiona>=1.8->geopandas>=0.11->osmnx) (49.2.1)\n",
      "Building wheels for collected packages: fiona\n",
      "  Building wheel for fiona (setup.py) ... \u001b[?25ldone\n",
      "\u001b[?25h  Created wheel for fiona: filename=Fiona-1.8.22-cp38-cp38-macosx_10_14_arm64.whl size=1190844 sha256=16461c1486a07ba2761f594aa1a76eb7d6aee330bd1e50462b3f8e7eb56d350c\n",
      "  Stored in directory: /Users/ruchikashashidhara/Library/Caches/pip/wheels/7d/ae/94/891fbb03f02a74bf4689cd48b0257526a0926b0053a15643e5\n",
      "Successfully built fiona\n",
      "Installing collected packages: Shapely, Rtree, requests, pyproj, pillow, networkx, munch, kiwisolver, fonttools, cycler, contourpy, click, matplotlib, cligj, click-plugins, fiona, geopandas, osmnx\n",
      "  Attempting uninstall: requests\n",
      "    Found existing installation: requests 2.27.1\n",
      "    Uninstalling requests-2.27.1:\n",
      "      Successfully uninstalled requests-2.27.1\n",
      "Successfully installed Rtree-1.0.1 Shapely-1.8.5.post1 click-8.1.3 click-plugins-1.1.1 cligj-0.7.2 contourpy-1.0.6 cycler-0.11.0 fiona-1.8.22 fonttools-4.38.0 geopandas-0.12.2 kiwisolver-1.4.4 matplotlib-3.6.2 munch-2.5.0 networkx-2.8.8 osmnx-1.2.2 pillow-9.3.0 pyproj-3.4.1 requests-2.28.1\n",
      "\u001b[33mWARNING: You are using pip version 22.0.3; however, version 22.3.1 is available.\n",
      "You should consider upgrading via the '/Applications/Xcode.app/Contents/Developer/usr/bin/python3 -m pip install --upgrade pip' command.\u001b[0m\u001b[33m\n",
      "\u001b[0m"
     ]
    }
   ],
   "source": [
    "!{sys.executable} -m pip install osmnx"
   ]
  },
  {
   "cell_type": "code",
   "execution_count": 53,
   "id": "847801f6",
   "metadata": {},
   "outputs": [
    {
     "name": "stdout",
     "output_type": "stream",
     "text": [
      "Defaulting to user installation because normal site-packages is not writeable\n",
      "Requirement already satisfied: matplotlib in /Users/ruchikashashidhara/Library/Python/3.8/lib/python/site-packages (3.6.2)\n",
      "Requirement already satisfied: contourpy>=1.0.1 in /Users/ruchikashashidhara/Library/Python/3.8/lib/python/site-packages (from matplotlib) (1.0.6)\n",
      "Requirement already satisfied: numpy>=1.19 in /Users/ruchikashashidhara/Library/Python/3.8/lib/python/site-packages (from matplotlib) (1.22.2)\n",
      "Requirement already satisfied: fonttools>=4.22.0 in /Users/ruchikashashidhara/Library/Python/3.8/lib/python/site-packages (from matplotlib) (4.38.0)\n",
      "Requirement already satisfied: pyparsing>=2.2.1 in /Users/ruchikashashidhara/Library/Python/3.8/lib/python/site-packages (from matplotlib) (3.0.7)\n",
      "Requirement already satisfied: pillow>=6.2.0 in /Users/ruchikashashidhara/Library/Python/3.8/lib/python/site-packages (from matplotlib) (9.3.0)\n",
      "Requirement already satisfied: packaging>=20.0 in /Users/ruchikashashidhara/Library/Python/3.8/lib/python/site-packages (from matplotlib) (21.3)\n",
      "Requirement already satisfied: python-dateutil>=2.7 in /Users/ruchikashashidhara/Library/Python/3.8/lib/python/site-packages (from matplotlib) (2.8.2)\n",
      "Requirement already satisfied: kiwisolver>=1.0.1 in /Users/ruchikashashidhara/Library/Python/3.8/lib/python/site-packages (from matplotlib) (1.4.4)\n",
      "Requirement already satisfied: cycler>=0.10 in /Users/ruchikashashidhara/Library/Python/3.8/lib/python/site-packages (from matplotlib) (0.11.0)\n",
      "Requirement already satisfied: six>=1.5 in /Applications/Xcode.app/Contents/Developer/Library/Frameworks/Python3.framework/Versions/3.8/lib/python3.8/site-packages (from python-dateutil>=2.7->matplotlib) (1.15.0)\n",
      "\u001b[33mWARNING: You are using pip version 22.0.3; however, version 22.3.1 is available.\n",
      "You should consider upgrading via the '/Applications/Xcode.app/Contents/Developer/usr/bin/python3 -m pip install --upgrade pip' command.\u001b[0m\u001b[33m\n",
      "\u001b[0m"
     ]
    }
   ],
   "source": [
    "!{sys.executable} -m pip install matplotlib"
   ]
  },
  {
   "cell_type": "code",
   "execution_count": 5,
   "id": "86c7421b",
   "metadata": {},
   "outputs": [
    {
     "name": "stderr",
     "output_type": "stream",
     "text": [
      "Fontconfig warning: ignoring UTF-8: not a valid region tag\n",
      "Matplotlib is building the font cache; this may take a moment.\n"
     ]
    }
   ],
   "source": [
    "from osmnx import geocode_to_gdf\n",
    "from shapely.geometry import Polygon, Point, MultiPolygon, MultiPoint\n",
    "from shapely.ops import unary_union, polygonize, cascaded_union\n",
    "from matplotlib.pyplot import plot, figure\n",
    "from math import pi, sqrt, log, inf"
   ]
  },
  {
   "cell_type": "code",
   "execution_count": 54,
   "id": "a560b23c",
   "metadata": {},
   "outputs": [],
   "source": [
    "class PolygonMetrics:\n",
    "    \n",
    "    def __init__(self, gdf_polygon):   \n",
    "        self.polygon = self.convert_gdf_to_shapely_polygon(gdf_polygon)\n",
    "        self.convex_hull_polygon = self.get_convex_hull_polygon(self.polygon) \n",
    "        self.min_rot_rect_polygon = self.get_mmr_polygon(self.convex_hull_polygon)        \n",
    "        self.polygon_metrics = dict()\n",
    "        \n",
    "    def convert_gdf_to_shapely_polygon(self, gdf_polygon):\n",
    "        border_lines = unary_union(gdf_polygon.geometry.values)\n",
    "        shapely_multipolygon = MultiPolygon(polygonize(border_lines))\n",
    "        shapely_polygon = cascaded_union([Polygon(component.exterior).buffer(0.01).buffer(-0.01) for component in shapely_multipolygon if len(component.exterior.coords) > 2000])\n",
    "        return shapely_polygon\n",
    "\n",
    "    def get_convex_hull_polygon(self, shapely_polygon):\n",
    "        multipoint_obj = MultiPoint(shapely_polygon.exterior.coords)\n",
    "        convex_hull_polygon = multipoint_obj.convex_hull\n",
    "        return convex_hull_polygon\n",
    "    \n",
    "    def get_mmr_polygon(self, convex_hull_polygon):\n",
    "        return convex_hull_polygon.minimum_rotated_rectangle\n",
    "\n",
    "    def plot_polygon(self, shapely_polygon):\n",
    "        plot(*shapely_polygon.exterior.xy)     \n",
    "        \n",
    "    def extract_poly_coords(self, shapely_polygon):\n",
    "        if shapely_polygon.type == 'Polygon':\n",
    "            exterior_coords = shapely_polygon.exterior.coords[:]\n",
    "            interior_coords = []\n",
    "            for interior in shapely_polygon.interiors:\n",
    "                interior_coords += interior.coords[:]\n",
    "        elif shapely_polygon.type == 'MultiPolygon':\n",
    "            exterior_coords = []\n",
    "            interior_coords = []\n",
    "            for part in shapely_polygon:\n",
    "                epc = extract_poly_coords(part) \n",
    "                exterior_coords += epc['exterior_coords']\n",
    "                interior_coords += epc['interior_coords']\n",
    "        else:\n",
    "            raise ValueError('Unhandled geometry type: ' + repr(shapely_polygon.type))\n",
    "        return {'exterior_coords': exterior_coords,\n",
    "                'interior_coords': interior_coords}\n",
    "\n",
    "    def compute_metrics(self):\n",
    "        \n",
    "        polygon_area = self.polygon.area\n",
    "        polygon_perimeter = self.polygon.length\n",
    "        \n",
    "        polygon_convex_hull_area = self.convex_hull_polygon.area\n",
    "        polygon_convex_hull_perimeter = self.convex_hull_polygon.length\n",
    "        \n",
    "        # https://stackoverflow.com/questions/13541562/python-contour-features-in-a-polygon-shapefiles-with-a-straightforward-solution\n",
    "        p0 = Point(self.min_rot_rect_polygon.exterior.coords[0])\n",
    "        p1 = Point(self.min_rot_rect_polygon.exterior.coords[1])\n",
    "        p2 = Point(self.min_rot_rect_polygon.exterior.coords[2])\n",
    "        d1 = p0.distance(p1)\n",
    "        d2 = p1.distance(p2)\n",
    "        polygon_major_axis_length = max(d1, d2)\n",
    "        polygon_minor_axis_length = min(d1, d2)        \n",
    "        polygon_contour_length = self.min_rot_rect_polygon.length \n",
    "        \n",
    "        self.polygon_metrics[\"polygon_area\"] = polygon_area\n",
    "        self.polygon_metrics[\"polygon_perimeter\"] = polygon_perimeter\n",
    "        \n",
    "        polygon_coords = extract_poly_coords(self.polygon)\n",
    "        self.polygon_metrics[\"total_exterior_coords\"] = len(polygon_coords[\"exterior_coords\"])\n",
    "        self.polygon_metrics[\"total_interior_coords\"] = len(polygon_coords[\"interior_coords\"])\n",
    "        self.polygon_metrics[\"total_coords\"] = len(polygon_coords[\"exterior_coords\"]) + len(polygon_coords[\"interior_coords\"])\n",
    "                \n",
    "        self.polygon_metrics[\"complexity\"] = polygon_convex_hull_perimeter / polygon_perimeter\n",
    "        \n",
    "        self.polygon_metrics[\"solidity\"] = polygon_area / polygon_convex_hull_area\n",
    "        \n",
    "        self.polygon_metrics[\"elongation\"] = polygon_major_axis_length / polygon_minor_axis_length\n",
    "        \n",
    "        self.polygon_metrics[\"roundness\"] = 4 * polygon_area / (pi * (polygon_major_axis_length ** 2))\n",
    "        \n",
    "        self.polygon_metrics[\"rectangular_fitting\"] = polygon_area * ( polygon_minor_axis_length / polygon_major_axis_length) \n",
    "        \n",
    "        self.polygon_metrics[\"compactness\"] = sqrt(4 * polygon_area / pi) / polygon_contour_length\n",
    "        \n",
    "        self.polygon_metrics[\"form_factor\"] = (4 * pi * polygon_area) / (polygon_perimeter ** 2)\n",
    "        \n",
    "        self.polygon_metrics[\"square_pixel_index\"] = 1 - (4 * sqrt(polygon_area)) / polygon_perimeter\n",
    "        \n",
    "        self.polygon_metrics[\"fractal_dimension\"] = abs(2 * log(polygon_perimeter / 4) / log(polygon_perimeter))\n",
    "        \n",
    "        self.polygon_metrics[\"shape_index\"] = polygon_perimeter / (4 * sqrt(polygon_area))\n",
    "        \n",
    "        self.polygon_metrics[\"amplitude_vibration\"] = (polygon_perimeter - polygon_convex_hull_perimeter) / polygon_perimeter\n",
    "        \n",
    "        self.polygon_metrics[\"convex_hull_deviation\"] = (polygon_convex_hull_area - polygon_area) /  polygon_convex_hull_area\n",
    "        \n",
    "    def get_metrics(self):\n",
    "        self.compute_metrics()                \n",
    "        return self.polygon_metrics\n",
    "    \n",
    "    def plot_all_polygons(self, x, y):\n",
    "        figure(figsize=(x,y))\n",
    "        self.plot_polygon(self.polygon)\n",
    "        self.plot_polygon(self.convex_hull_polygon)\n",
    "        self.plot_polygon(self.min_rot_rect_polygon) "
   ]
  },
  {
   "cell_type": "code",
   "execution_count": 55,
   "id": "8e1ba54f",
   "metadata": {},
   "outputs": [],
   "source": [
    "def print_dict(d1):\n",
    "    for metric in d1:\n",
    "        if(len(metric) > 15):\n",
    "            print(metric, end = '\\t')\n",
    "        else:\n",
    "            print(metric, end = '\\t\\t')\n",
    "        print(round(d1[metric], 5))"
   ]
  },
  {
   "cell_type": "code",
   "execution_count": 60,
   "id": "afbb647c",
   "metadata": {},
   "outputs": [],
   "source": [
    "def get_metrics_for_a_polygon(data_1): \n",
    "    data_1_metrics = PolygonMetrics(data_1)\n",
    "    data_1_metrics_dict = data_1_metrics.get_metrics()\n",
    "    print_dict(data_1_metrics_dict)\n",
    "    data_1.plot()"
   ]
  },
  {
   "cell_type": "code",
   "execution_count": 61,
   "id": "8a0b3196",
   "metadata": {},
   "outputs": [
    {
     "name": "stderr",
     "output_type": "stream",
     "text": [
      "/var/folders/yn/zyt5vw9s0pd434nm202hf2nm0000gr/T/ipykernel_78332/497056943.py:12: ShapelyDeprecationWarning: Iteration over multi-part geometries is deprecated and will be removed in Shapely 2.0. Use the `geoms` property to access the constituent parts of a multi-part geometry.\n",
      "  shapely_polygon = cascaded_union([Polygon(component.exterior).buffer(0.01).buffer(-0.01) for component in shapely_multipolygon if len(component.exterior.coords) > 2000])\n",
      "/var/folders/yn/zyt5vw9s0pd434nm202hf2nm0000gr/T/ipykernel_78332/497056943.py:12: ShapelyDeprecationWarning: The 'cascaded_union()' function is deprecated. Use 'unary_union()' instead.\n",
      "  shapely_polygon = cascaded_union([Polygon(component.exterior).buffer(0.01).buffer(-0.01) for component in shapely_multipolygon if len(component.exterior.coords) > 2000])\n"
     ]
    },
    {
     "name": "stdout",
     "output_type": "stream",
     "text": [
      "polygon_area\t\t16.12729\n",
      "polygon_perimeter\t36.26423\n",
      "total_exterior_coords\t29938\n",
      "total_interior_coords\t254\n",
      "total_coords\t\t30192\n",
      "complexity\t\t0.49339\n",
      "solidity\t\t0.75006\n",
      "elongation\t\t1.61427\n",
      "roundness\t\t0.46516\n",
      "rectangular_fitting\t9.99046\n",
      "compactness\t\t0.21057\n",
      "form_factor\t\t0.1541\n",
      "square_pixel_index\t0.55704\n",
      "fractal_dimension\t1.22787\n",
      "shape_index\t\t2.25755\n",
      "amplitude_vibration\t0.50661\n",
      "convex_hull_deviation\t0.24994\n"
     ]
    },
    {
     "data": {
      "image/png": "[encoded data removed]",
      "text/plain": [
       "<Figure size 432x288 with 1 Axes>"
      ]
     },
     "metadata": {
      "needs_background": "light"
     },
     "output_type": "display_data"
    }
   ],
   "source": [
    "data_1 = geocode_to_gdf('Karnataka, India') \n",
    "get_metrics_for_a_polygon(data_1)"
   ]
  },
  {
   "cell_type": "code",
   "execution_count": 65,
   "id": "db8cd300",
   "metadata": {},
   "outputs": [
    {
     "name": "stderr",
     "output_type": "stream",
     "text": [
      "/var/folders/yn/zyt5vw9s0pd434nm202hf2nm0000gr/T/ipykernel_78332/497056943.py:12: ShapelyDeprecationWarning: Iteration over multi-part geometries is deprecated and will be removed in Shapely 2.0. Use the `geoms` property to access the constituent parts of a multi-part geometry.\n",
      "  shapely_polygon = cascaded_union([Polygon(component.exterior).buffer(0.01).buffer(-0.01) for component in shapely_multipolygon if len(component.exterior.coords) > 2000])\n",
      "/var/folders/yn/zyt5vw9s0pd434nm202hf2nm0000gr/T/ipykernel_78332/497056943.py:12: ShapelyDeprecationWarning: The 'cascaded_union()' function is deprecated. Use 'unary_union()' instead.\n",
      "  shapely_polygon = cascaded_union([Polygon(component.exterior).buffer(0.01).buffer(-0.01) for component in shapely_multipolygon if len(component.exterior.coords) > 2000])\n"
     ]
    },
    {
     "name": "stdout",
     "output_type": "stream",
     "text": [
      "polygon_area\t\t26.47061\n",
      "polygon_perimeter\t45.38422\n",
      "total_exterior_coords\t45618\n",
      "total_interior_coords\t314\n",
      "total_coords\t\t45932\n",
      "complexity\t\t0.5244\n",
      "solidity\t\t0.72959\n",
      "elongation\t\t1.55258\n",
      "roundness\t\t0.43371\n",
      "rectangular_fitting\t17.04944\n",
      "compactness\t\t0.20028\n",
      "form_factor\t\t0.1615\n",
      "square_pixel_index\t0.54654\n",
      "fractal_dimension\t1.27327\n",
      "shape_index\t\t2.20528\n",
      "amplitude_vibration\t0.4756\n",
      "convex_hull_deviation\t0.27041\n"
     ]
    },
    {
     "data": {
      "image/png": "[encoded data removed]",
      "text/plain": [
       "<Figure size 432x288 with 1 Axes>"
      ]
     },
     "metadata": {
      "needs_background": "light"
     },
     "output_type": "display_data"
    }
   ],
   "source": [
    "data_2 = geocode_to_gdf('Maharashtra, India') \n",
    "get_metrics_for_a_polygon(data_2)"
   ]
  },
  {
   "cell_type": "code",
   "execution_count": 66,
   "id": "03a223af",
   "metadata": {},
   "outputs": [
    {
     "name": "stderr",
     "output_type": "stream",
     "text": [
      "/var/folders/yn/zyt5vw9s0pd434nm202hf2nm0000gr/T/ipykernel_78332/497056943.py:12: ShapelyDeprecationWarning: Iteration over multi-part geometries is deprecated and will be removed in Shapely 2.0. Use the `geoms` property to access the constituent parts of a multi-part geometry.\n",
      "  shapely_polygon = cascaded_union([Polygon(component.exterior).buffer(0.01).buffer(-0.01) for component in shapely_multipolygon if len(component.exterior.coords) > 2000])\n",
      "/var/folders/yn/zyt5vw9s0pd434nm202hf2nm0000gr/T/ipykernel_78332/497056943.py:12: ShapelyDeprecationWarning: The 'cascaded_union()' function is deprecated. Use 'unary_union()' instead.\n",
      "  shapely_polygon = cascaded_union([Polygon(component.exterior).buffer(0.01).buffer(-0.01) for component in shapely_multipolygon if len(component.exterior.coords) > 2000])\n"
     ]
    },
    {
     "name": "stdout",
     "output_type": "stream",
     "text": [
      "polygon_area\t\t10.77746\n",
      "polygon_perimeter\t23.86093\n",
      "total_exterior_coords\t25119\n",
      "total_interior_coords\t170\n",
      "total_coords\t\t25289\n",
      "complexity\t\t0.6327\n",
      "solidity\t\t0.75812\n",
      "elongation\t\t1.04444\n",
      "roundness\t\t0.63523\n",
      "rectangular_fitting\t10.31892\n",
      "compactness\t\t0.20358\n",
      "form_factor\t\t0.23788\n",
      "square_pixel_index\t0.44966\n",
      "fractal_dimension\t1.12598\n",
      "shape_index\t\t1.81706\n",
      "amplitude_vibration\t0.3673\n",
      "convex_hull_deviation\t0.24188\n"
     ]
    },
    {
     "data": {
      "image/png": "[encoded data removed]",
      "text/plain": [
       "<Figure size 432x288 with 1 Axes>"
      ]
     },
     "metadata": {
      "needs_background": "light"
     },
     "output_type": "display_data"
    }
   ],
   "source": [
    "data_3 = geocode_to_gdf('Tamil Nadu, India') \n",
    "get_metrics_for_a_polygon(data_3)"
   ]
  },
  {
   "cell_type": "code",
   "execution_count": 67,
   "id": "ed14cb6b",
   "metadata": {},
   "outputs": [
    {
     "name": "stderr",
     "output_type": "stream",
     "text": [
      "/var/folders/yn/zyt5vw9s0pd434nm202hf2nm0000gr/T/ipykernel_78332/497056943.py:12: ShapelyDeprecationWarning: Iteration over multi-part geometries is deprecated and will be removed in Shapely 2.0. Use the `geoms` property to access the constituent parts of a multi-part geometry.\n",
      "  shapely_polygon = cascaded_union([Polygon(component.exterior).buffer(0.01).buffer(-0.01) for component in shapely_multipolygon if len(component.exterior.coords) > 2000])\n",
      "/var/folders/yn/zyt5vw9s0pd434nm202hf2nm0000gr/T/ipykernel_78332/497056943.py:12: ShapelyDeprecationWarning: The 'cascaded_union()' function is deprecated. Use 'unary_union()' instead.\n",
      "  shapely_polygon = cascaded_union([Polygon(component.exterior).buffer(0.01).buffer(-0.01) for component in shapely_multipolygon if len(component.exterior.coords) > 2000])\n"
     ]
    },
    {
     "name": "stdout",
     "output_type": "stream",
     "text": [
      "polygon_area\t\t3.21661\n",
      "polygon_perimeter\t14.68326\n",
      "total_exterior_coords\t17866\n",
      "total_interior_coords\t0\n",
      "total_coords\t\t17866\n",
      "complexity\t\t0.73072\n",
      "solidity\t\t0.74479\n",
      "elongation\t\t4.11315\n",
      "roundness\t\t0.16422\n",
      "rectangular_fitting\t0.78203\n",
      "compactness\t\t0.16299\n",
      "form_factor\t\t0.18748\n",
      "square_pixel_index\t0.51142\n",
      "fractal_dimension\t0.96803\n",
      "shape_index\t\t2.04674\n",
      "amplitude_vibration\t0.26928\n",
      "convex_hull_deviation\t0.25521\n"
     ]
    },
    {
     "data": {
      "image/png": "[encoded data removed]",
      "text/plain": [
       "<Figure size 432x288 with 1 Axes>"
      ]
     },
     "metadata": {
      "needs_background": "light"
     },
     "output_type": "display_data"
    }
   ],
   "source": [
    "data_4 = geocode_to_gdf('Kerala, India') \n",
    "get_metrics_for_a_polygon(data_4)"
   ]
  },
  {
   "cell_type": "code",
   "execution_count": null,
   "id": "0459630b",
   "metadata": {},
   "outputs": [],
   "source": []
  }
 ],
 "metadata": {
  "kernelspec": {
   "display_name": "Python 3 (ipykernel)",
   "language": "python",
   "name": "python3"
  },
  "language_info": {
   "codemirror_mode": {
    "name": "ipython",
    "version": 3
   },
   "file_extension": ".py",
   "mimetype": "text/x-python",
   "name": "python",
   "nbconvert_exporter": "python",
   "pygments_lexer": "ipython3",
   "version": "3.8.9"
  }
 },
 "nbformat": 4,
 "nbformat_minor": 5
}
