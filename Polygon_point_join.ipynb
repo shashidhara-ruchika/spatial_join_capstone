{
 "cells": [
  {
   "cell_type": "code",
   "execution_count": null,
   "id": "realistic-above",
   "metadata": {},
   "outputs": [],
   "source": [
    "from IPython.display import Image\n",
    "from IPython.core.display import HTML \n",
    "Image(url= \"https://geopandas.org/_images/overlay_operations.png\")"
   ]
  },
  {
   "cell_type": "markdown",
   "id": "demonstrated-insight",
   "metadata": {},
   "source": [
    "# Visualization of spatial data using PolygonPatch"
   ]
  },
  {
   "cell_type": "code",
   "execution_count": null,
   "id": "unable-trunk",
   "metadata": {},
   "outputs": [],
   "source": [
    "import matplotlib.pyplot as plt\n",
    "\n",
    "def add_geometry(data, ax, geometry = 'polygon', fc = '#cccccc', ec='k'):\n",
    "    \n",
    "    if geometry == 'polygon':\n",
    "        for polygon in data:\n",
    "            patch = PolygonPatch(polygon, fc=fc, ec=ec, alpha=0.5, zorder=2)\n",
    "            ax.add_patch(patch)\n",
    "            \n",
    "    elif geometry == 'point':\n",
    "        ax.scatter(x=data['x'], y=data['y'], s=1, c=fc, linewidth=0, zorder=1)\n",
    "        "
   ]
  },
  {
   "cell_type": "markdown",
   "id": "conscious-bottle",
   "metadata": {},
   "source": [
    "# Spatial Join on CPU and GPU without indexing and splitting"
   ]
  },
  {
   "cell_type": "code",
   "execution_count": null,
   "id": "constitutional-jaguar",
   "metadata": {},
   "outputs": [],
   "source": [
    "import time\n",
    "import geopandas as gpd\n",
    "from numba.extending import overload\n",
    "import matplotlib.pyplot as plt\n",
    "\n",
    "def sjoin_without_indexing(data_1, data_2, device = 'CPU', plot = False):\n",
    "    start_time = time.time()\n",
    "    join_result = gpd.sjoin(data_1, data_2, how=\"inner\", op='intersects')\n",
    "    end_time = time.time()\n",
    "    print(\"S-join without splitting on {0} = {1}\".format(device, end_time - start_time))\n",
    "\n",
    "@overload(sjoin_without_indexing)\n",
    "def gpu_sjoin_without_indexing(data1, data2, plot = True):\n",
    "    sjoin_without_indexing(data1, data2, device = 'GPU', plot = plot)"
   ]
  },
  {
   "cell_type": "code",
   "execution_count": null,
   "id": "ideal-entrance",
   "metadata": {
    "scrolled": false
   },
   "outputs": [],
   "source": [
    "from geopandas import GeoDataFrame\n",
    "import geopandas as gpd\n",
    "import pandas as pd\n",
    "import osmnx as ox\n",
    "\n",
    "data_1 = ox.geocode_to_gdf('Los Angeles, California, USA') # Multipolygon\n",
    "data_2 = gpd.read_file(\"Point_dataset/LA_point_dataset.shp\") # Point\n",
    "\n",
    "gpu_sjoin_without_indexing(data_1, data_2, plot = False)"
   ]
  },
  {
   "cell_type": "markdown",
   "id": "noticed-chain",
   "metadata": {},
   "source": [
    "# Spatial Join on CPU and GPU with indexing and without splitting"
   ]
  },
  {
   "cell_type": "raw",
   "id": "tested-hazard",
   "metadata": {},
   "source": [
    "# Data types: MultiPolygon with MultiLine\n",
    "# Output is incorrect"
   ]
  },
  {
   "cell_type": "code",
   "execution_count": null,
   "id": "checked-cooling",
   "metadata": {
    "scrolled": false
   },
   "outputs": [],
   "source": [
    "from geopandas import GeoDataFrame\n",
    "import geopandas as gpd\n",
    "import pandas as pd\n",
    "from descartes import PolygonPatch\n",
    "from shapely.geometry import Point, Polygon, MultiPolygon\n",
    "\n",
    "from numba.extending import overload\n",
    "\n",
    "import matplotlib.pyplot as plt\n",
    "import time\n",
    "\n",
    "def sjoin_with_indexing(data_1, data_2, device = 'CPU', plot = True):\n",
    "    \n",
    "#     convert input data to Multipolygon as needed by sjoin\n",
    "    geometry_1 = data_1['geometry'].iloc[0]\n",
    "    if isinstance(geometry_1, Polygon):\n",
    "        geometry_1 = MultiPolygon([geometry_1])\n",
    "        \n",
    "    start_time = time.time()\n",
    "#     indexing data_2 - point dataset\n",
    "    sindex_2 = data_2.sindex\n",
    "    \n",
    "#     filter phase\n",
    "    possible_indices = list(sindex_2.intersection(geometry_1.bounds))\n",
    "    possible_matches = data_2.iloc[possible_indices]\n",
    "    \n",
    "#     refinement phase\n",
    "    precise_matches = possible_matches[possible_matches.intersects(geometry_1)]\n",
    "    # cannot use index structure of data 2 for intersects operation, accepts Series datatype only     \n",
    "    end_time = time.time()\n",
    "    \n",
    "#     plotting the sjoin results \n",
    "    points_within_geometry = precise_matches\n",
    "    points_outside_geometry = data_2[~data_2.isin(points_within_geometry)]\n",
    "    \n",
    "    if plot:\n",
    "        fig, ax = plt.subplots(figsize=(6, 6))\n",
    "            \n",
    "        add_geometry(geometry_1, ax, geometry = 'polygon', fc = '#cccccc', ec='k')\n",
    "        add_geometry(points_outside_geometry, ax, geometry = 'point', fc = 'r')\n",
    "        add_geometry(points_within_geometry, ax, geometry = 'point', fc = 'b')\n",
    "\n",
    "        ax.axis('off')\n",
    "        plt.show()\n",
    "    \n",
    "    print(\"S-join without splitting on {0} = {1}\".format(device, end_time - start_time))\n",
    "    \n",
    "@overload(sjoin_with_indexing)\n",
    "def gpu_sjoin_with_indexing(data_1, data_2, device = 'CPU', plot = True):\n",
    "    sjoin_with_indexing(data_1, data_2, device = 'GPU', plot = True)    \n",
    "\n",
    "import osmnx as ox\n",
    "data_1 = ox.geocode_to_gdf('Los Angeles, California, USA') # Multipolygon\n",
    "data_2 = gpd.read_file(\"Point_dataset/LA_point_dataset.shp\") # Point\n",
    "\n",
    "gpu_sjoin_with_indexing(data_1, data_2)"
   ]
  },
  {
   "cell_type": "markdown",
   "id": "individual-filling",
   "metadata": {},
   "source": [
    "# Spatial Join on CPU and GPU with indexing and splitting"
   ]
  },
  {
   "cell_type": "raw",
   "id": "tired-asthma",
   "metadata": {},
   "source": [
    "# Data types: MultiPolygon with Points\n",
    "# Data set collected from OpenStreetMaps"
   ]
  },
  {
   "cell_type": "code",
   "execution_count": null,
   "id": "delayed-stock",
   "metadata": {},
   "outputs": [],
   "source": [
    "from shapely.geometry import Point, Polygon, MultiPolygon\n",
    "import osmnx as ox\n",
    "import geopandas as gpd\n",
    "\n",
    "def get_point_dataset(location = 'Los Angeles, California, USA', data = gpd.GeoDataFrame()):\n",
    "    \n",
    "    print('Getting point datasets..')\n",
    "    if data.empty:  \n",
    "        data = ox.geocode_to_gdf(location)        \n",
    "    west, south, east, north = data.unary_union.bounds\n",
    "    \n",
    "    G = ox.graph_from_bbox(north, south, east, west, network_type='all', retain_all=True)\n",
    "    xy = [(data['x'], data['y']) for node, data in G.nodes(data=True)]\n",
    "    x, y = list(zip(*xy))\n",
    "    # x - list of all x-coordinates\n",
    "    # y - list of all y-coordinates\n",
    "\n",
    "    points = gpd.GeoDataFrame(data={'x':x, 'y':y})\n",
    "    points['geometry'] = points.apply(lambda row: Point((row['x'], row['y'])), axis=1)\n",
    "    points.crs = data.crs\n",
    "    points.name = 'nodes'\n",
    "    \n",
    "    return gdf_nodes"
   ]
  },
  {
   "cell_type": "code",
   "execution_count": null,
   "id": "other-douglas",
   "metadata": {},
   "outputs": [],
   "source": [
    "import osmnx as ox\n",
    "data_1 = ox.geocode_to_gdf('Los Angeles, California, USA') # Multipolygon\n",
    "data_2 = get_point_dataset(data = data_1) # Point"
   ]
  },
  {
   "cell_type": "code",
   "execution_count": null,
   "id": "distinguished-sucking",
   "metadata": {},
   "outputs": [],
   "source": [
    "data_2.to_file(\"./Point_dataset/LA_point_dataset.shp\")"
   ]
  },
  {
   "cell_type": "code",
   "execution_count": null,
   "id": "trying-auction",
   "metadata": {},
   "outputs": [],
   "source": [
    "import osmnx as ox\n",
    "data_1 = ox.geocode_to_gdf('Los Angeles, California, USA') # Multipolygon\n",
    "data_2 = gpd.read_file(\"Point_dataset/LA_point_dataset.shp\") # Point"
   ]
  },
  {
   "cell_type": "code",
   "execution_count": null,
   "id": "accomplished-interval",
   "metadata": {},
   "outputs": [],
   "source": [
    "import geopandas as gpd\n",
    "import pandas as pd\n",
    "from descartes import PolygonPatch\n",
    "from shapely.geometry import Point, Polygon, MultiPolygon\n",
    "\n",
    "from numba.extending import overload\n",
    "from numba import jit\n",
    "\n",
    "import matplotlib.pyplot as plt\n",
    "import time\n",
    "\n",
    "@jit\n",
    "def sjoin_with_splitting(data_1, data_2, device = 'CPU', plot = True):\n",
    "    \n",
    "#     convert input data to Multipolygon as needed by sjoin\n",
    "    geometry_1 = data_1['geometry'].iloc[0]\n",
    "    if isinstance(geometry_1, Polygon):\n",
    "        geometry_1 = MultiPolygon([geometry_1])\n",
    "        \n",
    "    start_time = time.time()\n",
    "    \n",
    "#     Splitting polygon data into squares of width 0.1\n",
    "    geometry_cut = ox.utils_geo._quadrat_cut_geometry(geometry_1, quadrat_width=0.1)\n",
    "#     indexing data_2\n",
    "    sindex_2 = data_2.sindex\n",
    "       \n",
    "    points_within_geometry = pd.DataFrame()\n",
    "    for sub_poly in geometry_cut:        \n",
    "        # filter phase \n",
    "#         sub_poly = sub_poly.buffer(1e-14).buffer(0)\n",
    "#         possible_indices = list(sindex_2.intersection(sub_poly.bounds))\n",
    "#         possible_matches = data_2.iloc[possible_indices]\n",
    "        \n",
    "        # refinement phase\n",
    "        precise_matches = data_2[data_2.intersects(sub_poly)]\n",
    "        points_within_geometry = points_within_geometry.append(precise_matches)\n",
    "        \n",
    "#     remove duplicate matches\n",
    "    points_within_geometry = points_within_geometry.drop_duplicates(subset=['x', 'y'])\n",
    "    end_time = time.time()\n",
    "    points_outside_geometry = data_2[~data_2.isin(points_within_geometry)]   \n",
    "    \n",
    "#     plotting the sjoin results     \n",
    "    if plot:\n",
    "        fig, ax = plt.subplots(figsize=(6, 6))\n",
    "            \n",
    "        add_geometry(geometry_1, ax, geometry = 'polygon', fc = '#cccccc', ec='k')\n",
    "        add_geometry(points_outside_geometry, ax, geometry = 'point', fc = 'r')\n",
    "        add_geometry(points_within_geometry, ax, geometry = 'point', fc = 'b')\n",
    "\n",
    "        ax.axis('off')\n",
    "        plt.show()\n",
    "    \n",
    "    print(\"S-join with splitting on {0} = {1}\".format(device, end_time - start_time))\n",
    "    \n",
    "@overload(sjoin_with_splitting)\n",
    "def gpu_sjoin_with_splitting(data_1, data_2, device = 'CPU', plot = True):\n",
    "    sjoin_with_splitting(data_1, data_2, device = 'GPU', plot = True)\n",
    "\n",
    "sjoin_with_splitting(data_1, data_2)"
   ]
  },
  {
   "cell_type": "code",
   "execution_count": null,
   "id": "apparent-costa",
   "metadata": {},
   "outputs": [],
   "source": []
  },
  {
   "cell_type": "code",
   "execution_count": null,
   "id": "flexible-machine",
   "metadata": {},
   "outputs": [],
   "source": [
    "data = ox.geocode_to_gdf('Los Angeles, California, USA')\n",
    "west, south, east, north = data.unary_union.bounds\n",
    "print(west, south, east, north)\n",
    "G = ox.graph_from_bbox(north, south, east, west, network_type='all', retain_all=True)"
   ]
  },
  {
   "cell_type": "code",
   "execution_count": null,
   "id": "quality-netherlands",
   "metadata": {},
   "outputs": [],
   "source": [
    "from shapely.geometry import Point, Polygon, MultiPolygon\n",
    "xy = [(data['x'], data['y']) for node, data in G.nodes(data=True)]\n",
    "x, y = list(zip(*xy))\n",
    "# x - list of all x-coordinates\n",
    "# y - list of all y-coordinates\n",
    "\n",
    "gdf_nodes = gpd.GeoDataFrame(data={'x':x, 'y':y})\n",
    "print(gdf_nodes)\n",
    "gdf_nodes['geometry'] = gdf_nodes.apply(lambda row: Point((row['x'], row['y'])), axis=1)\n",
    "gdf_nodes.crs = data.crs\n",
    "gdf_nodes.name = 'nodes'"
   ]
  },
  {
   "cell_type": "code",
   "execution_count": null,
   "id": "physical-shopper",
   "metadata": {},
   "outputs": [],
   "source": [
    "gdf_nodes.plot()"
   ]
  },
  {
   "cell_type": "code",
   "execution_count": null,
   "id": "adjusted-button",
   "metadata": {},
   "outputs": [],
   "source": [
    "print(x[1:10], y[1:10])\n",
    "print(xy[1:10])"
   ]
  },
  {
   "cell_type": "code",
   "execution_count": null,
   "id": "immune-australian",
   "metadata": {},
   "outputs": [],
   "source": [
    "print(data_2.iloc[0])\n",
    "print()\n",
    "print('Shape: ', data_2.shape)\n",
    "print()\n",
    "print('Datatype of geometry: ', type(data_2['geometry']))\n",
    "print()\n",
    "print('Area: ', data_2['geometry'].area)\n",
    "print()\n",
    "print('Data bounds:\\n', data_2['geometry'].bounds)\n",
    "print()\n",
    "print('Geometry: ', data_2['geometry'].geom_type)"
   ]
  },
  {
   "cell_type": "code",
   "execution_count": null,
   "id": "acknowledged-counter",
   "metadata": {
    "scrolled": false
   },
   "outputs": [],
   "source": [
    "# sjoin_with_indexing(gdb_data, data_3, plot = False)\n",
    "\n",
    "# gpu_sjoin_with_indexing(gdb_data, data_3)\n",
    "\n",
    "# Output isn't correct"
   ]
  },
  {
   "cell_type": "markdown",
   "id": "expensive-consortium",
   "metadata": {},
   "source": [
    "# Convert wkt to GeodataFrames"
   ]
  },
  {
   "cell_type": "code",
   "execution_count": null,
   "id": "convinced-final",
   "metadata": {},
   "outputs": [],
   "source": [
    "from shapely import wkt\n",
    "\n",
    "wkt_csv_data = pd.read_csv(\"Datasets/wkt_format/primaryroads_wkt.csv\")\n",
    "wkt_csv_data = wkt_csv_data[].apply(wkt.loads)\n",
    "\n",
    "wkt_gdf_data = gpd.GeoDataFrame(wkt_csv_data)\n",
    "\n",
    "wkt_gdf_data.plot(ec = \"#0b1878\", figsize=(24,24))"
   ]
  },
  {
   "cell_type": "code",
   "execution_count": 4,
   "id": "imported-force",
   "metadata": {},
   "outputs": [
    {
     "name": "stdout",
     "output_type": "stream",
     "text": [
      "         minx       miny       maxx       maxy\n",
      "0 -118.951722  32.796929 -117.64627  34.823312\n"
     ]
    },
    {
     "data": {
      "image/png": "[encoded data removed]",
      "text/plain": [
       "<Figure size 432x288 with 1 Axes>"
      ]
     },
     "metadata": {
      "needs_background": "light"
     },
     "output_type": "display_data"
    }
   ],
   "source": [
    "import osmnx as ox\n",
    "data_1 = ox.geocode_to_gdf('Los Angeles, California, USA') # Multipolygon\n",
    "data_1.plot()\n",
    "print(data_1.bounds)"
   ]
  },
  {
   "cell_type": "code",
   "execution_count": 5,
   "id": "voluntary-glory",
   "metadata": {},
   "outputs": [
    {
     "name": "stdout",
     "output_type": "stream",
     "text": [
      "         minx       miny       maxx       maxy\n",
      "0 -118.951722  32.796929 -117.64627  34.823312\n"
     ]
    },
    {
     "data": {
      "image/png": "[encoded data removed]",
      "text/plain": [
       "<Figure size 432x288 with 1 Axes>"
      ]
     },
     "metadata": {
      "needs_background": "light"
     },
     "output_type": "display_data"
    }
   ],
   "source": [
    "import osmnx as ox\n",
    "data_1 = ox.geocode_to_gdf('Los Angeles, California, USA') # Multipolygon\n",
    "data_1.plot()\n",
    "print(data_1.bounds)"
   ]
  },
  {
   "cell_type": "code",
   "execution_count": null,
   "id": "freelance-feature",
   "metadata": {},
   "outputs": [],
   "source": []
  }
 ],
 "metadata": {
  "kernelspec": {
   "display_name": "Python 3",
   "language": "python",
   "name": "python3"
  },
  "language_info": {
   "codemirror_mode": {
    "name": "ipython",
    "version": 3
   },
   "file_extension": ".py",
   "mimetype": "text/x-python",
   "name": "python",
   "nbconvert_exporter": "python",
   "pygments_lexer": "ipython3",
   "version": "3.6.9"
  }
 },
 "nbformat": 4,
 "nbformat_minor": 5
}
